{
 "cells": [
  {
   "cell_type": "markdown",
   "metadata": {
    "collapsed": true,
    "pycharm": {
     "name": "#%% md\n"
    }
   },
   "source": [
    "## Data augmentation on the original images\n",
    "#### Author: Pinglei He, Kaiao Wen, Albache Jean, Augusto Oliveira, Yassine Oudghiri"
   ]
  },
  {
   "cell_type": "markdown",
   "source": [
    "## Context of this notebook\n",
    "We're given a data of one single image. In order to train our model, we need to augment the data. This notebook presents the creation of our pipeline on the original images without noise. We're going to apply a series of transformations to the original image, by rotating, flipping, resizing, cropping and shifting the 9 stents that we have."
   ],
   "metadata": {
    "collapsed": false,
    "pycharm": {
     "name": "#%% md\n"
    }
   }
  },
  {
   "cell_type": "markdown",
   "source": [
    "## Creation of dedicated functions"
   ],
   "metadata": {
    "collapsed": false,
    "pycharm": {
     "name": "#%% md\n"
    }
   }
  },
  {
   "cell_type": "code",
   "execution_count": 1,
   "outputs": [],
   "source": [
    "# python modules\n",
    "from PIL import Image, ImageChops, ImageOps\n",
    "import numpy as np\n",
    "import random as rd\n",
    "import os\n",
    "from math import ceil"
   ],
   "metadata": {
    "collapsed": false,
    "pycharm": {
     "name": "#%%\n"
    }
   }
  },
  {
   "cell_type": "markdown",
   "source": [
    "Constants"
   ],
   "metadata": {
    "collapsed": false,
    "pycharm": {
     "name": "#%% md\n"
    }
   }
  },
  {
   "cell_type": "code",
   "execution_count": 3,
   "outputs": [],
   "source": [
    "pixel_max = 2 ** 16 - 1  # 16 bit unsigned integers\n",
    "base_path = \"data/dataset/base_png\"\n",
    "im_size = 512  # 512 * 512 pixels per base"
   ],
   "metadata": {
    "collapsed": false,
    "pycharm": {
     "name": "#%%\n"
    }
   }
  },
  {
   "cell_type": "markdown",
   "source": [
    "## Pipeline Creation\n",
    "The following function combines multiple processing operations into one"
   ],
   "metadata": {
    "collapsed": false,
    "pycharm": {
     "name": "#%% md\n"
    }
   }
  },
  {
   "cell_type": "code",
   "execution_count": 4,
   "outputs": [],
   "source": [
    "def create_pipeline(*operations):\n",
    "    \"\"\"Select base image using selector function, and return the image after all transformations functions\"\"\"\n",
    "    def pipeline(img: Image.Image):\n",
    "        for op in operations:\n",
    "            img = op(img)\n",
    "        return img\n",
    "    return pipeline"
   ],
   "metadata": {
    "collapsed": false,
    "pycharm": {
     "name": "#%%\n"
    }
   }
  },
  {
   "cell_type": "markdown",
   "source": [
    "Function for selection of base image"
   ],
   "metadata": {
    "collapsed": false,
    "pycharm": {
     "name": "#%% md\n"
    }
   }
  },
  {
   "cell_type": "code",
   "execution_count": 5,
   "outputs": [],
   "source": [
    "def select() -> Image.Image:\n",
    "    \"\"\"Selects a random base image.\"\"\"\n",
    "    base_files = os.listdir(base_path)\n",
    "    selected = rd.choice(base_files)\n",
    "    return Image.open(os.path.join(base_path, selected))"
   ],
   "metadata": {
    "collapsed": false,
    "pycharm": {
     "name": "#%%\n"
    }
   }
  },
  {
   "cell_type": "code",
   "execution_count": 6,
   "outputs": [
    {
     "data": {
      "text/plain": "<PIL.PngImagePlugin.PngImageFile image mode=I size=512x511>",
      "image/png": "[encoded data removed]"
     },
     "execution_count": 6,
     "metadata": {},
     "output_type": "execute_result"
    }
   ],
   "source": [
    "# example\n",
    "test_img = select()\n",
    "test_img"
   ],
   "metadata": {
    "collapsed": false,
    "pycharm": {
     "name": "#%%\n"
    }
   }
  },
  {
   "cell_type": "code",
   "execution_count": 7,
   "outputs": [],
   "source": [
    "def rotate(img: Image.Image, angle=None) -> Image.Image:\n",
    "    if angle is None:\n",
    "        angle = rd.uniform(0, 360)\n",
    "    return img.rotate(angle, fillcolor=pixel_max)"
   ],
   "metadata": {
    "collapsed": false,
    "pycharm": {
     "name": "#%%\n"
    }
   }
  },
  {
   "cell_type": "code",
   "execution_count": 8,
   "outputs": [
    {
     "data": {
      "text/plain": "<PIL.Image.Image image mode=I size=512x511>",
      "image/png": "[encoded data removed]"
     },
     "execution_count": 8,
     "metadata": {},
     "output_type": "execute_result"
    }
   ],
   "source": [
    "# example\n",
    "test_img_rotated = rotate(test_img)\n",
    "test_img_rotated"
   ],
   "metadata": {
    "collapsed": false,
    "pycharm": {
     "name": "#%%\n"
    }
   }
  },
  {
   "cell_type": "code",
   "execution_count": 9,
   "outputs": [],
   "source": [
    "def rescale(img: Image.Image, scale=None) -> Image.Image:\n",
    "    if not scale:\n",
    "        scale = rd.uniform(0.2, 1.6)\n",
    "    # shrink the image\n",
    "    thumbnail_size = ceil(im_size * scale / 2) * 2\n",
    "\n",
    "    # add border to have the original image dimensions if image is shrunken\n",
    "    if thumbnail_size <= im_size:\n",
    "        img = img.resize((thumbnail_size, thumbnail_size))\n",
    "        # img.thumbnail((thumbnail_size, thumbnail_size))\n",
    "        border_size = (im_size - thumbnail_size) // 2\n",
    "        return ImageOps.expand(img, border=border_size, fill=pixel_max)\n",
    "\n",
    "    # crop image if image is enlarged\n",
    "    border_size = (thumbnail_size - im_size) // 2\n",
    "    img = img.resize((thumbnail_size, thumbnail_size))\n",
    "    return img.crop((border_size, border_size, border_size + im_size, border_size + im_size))"
   ],
   "metadata": {
    "collapsed": false,
    "pycharm": {
     "name": "#%%\n"
    }
   }
  },
  {
   "cell_type": "code",
   "execution_count": 10,
   "outputs": [
    {
     "data": {
      "text/plain": "<PIL.Image.Image image mode=I size=512x512>",
      "image/png": "[encoded data removed]"
     },
     "execution_count": 10,
     "metadata": {},
     "output_type": "execute_result"
    }
   ],
   "source": [
    "from copy import deepcopy\n",
    "# example\n",
    "test_img_rescaled = rescale(deepcopy(test_img)) # scale set to 3 only for visualization purposes\n",
    "test_img_rescaled"
   ],
   "metadata": {
    "collapsed": false,
    "pycharm": {
     "name": "#%%\n"
    }
   }
  },
  {
   "cell_type": "code",
   "execution_count": 11,
   "outputs": [],
   "source": [
    "def translate(img: Image.Image, tx=None, ty=None) -> Image.Image:\n",
    "    \"\"\"\n",
    "    :param img: image file\n",
    "    :param tx: the number of pixels the image is translated to the left\n",
    "    :param ty: the number of pixels the image is translated to the right\n",
    "    :return: the translated image\n",
    "    \"\"\"\n",
    "    # if tx or ty set to none, randomly shift by -200 to 200 pixels in both directions\n",
    "    if not tx:\n",
    "        tx = rd.randint(-200, 200)\n",
    "    if not ty:\n",
    "        ty = rd.randint(-200, 200)\n",
    "    return ImageChops.offset(img, tx, ty,)"
   ],
   "metadata": {
    "collapsed": false,
    "pycharm": {
     "name": "#%%\n"
    }
   }
  },
  {
   "cell_type": "code",
   "execution_count": 12,
   "outputs": [
    {
     "data": {
      "text/plain": "<PIL.Image.Image image mode=I size=512x511>",
      "image/png": "[encoded data removed]"
     },
     "execution_count": 12,
     "metadata": {},
     "output_type": "execute_result"
    }
   ],
   "source": [
    "ImageChops.offset(test_img, 1, 1)"
   ],
   "metadata": {
    "collapsed": false,
    "pycharm": {
     "name": "#%%\n"
    }
   }
  },
  {
   "cell_type": "code",
   "execution_count": 13,
   "outputs": [],
   "source": [
    "def flip_and_mirror(img: Image.Image) -> Image.Image:\n",
    "    if np.random.uniform() >= 0.5: # flip with a probability of 0.5\n",
    "        img = ImageOps.flip(img)\n",
    "    if np.random.uniform() >= 0.5: # mirror with a probability of 0.5\n",
    "        img = ImageOps.mirror(img)\n",
    "    return img"
   ],
   "metadata": {
    "collapsed": false,
    "pycharm": {
     "name": "#%%\n"
    }
   }
  },
  {
   "cell_type": "code",
   "execution_count": 14,
   "outputs": [
    {
     "data": {
      "text/plain": "<PIL.PngImagePlugin.PngImageFile image mode=I size=512x511>",
      "image/png": "[encoded data removed]"
     },
     "execution_count": 14,
     "metadata": {},
     "output_type": "execute_result"
    }
   ],
   "source": [
    "test_img_flipped_and_mirrored = flip_and_mirror(test_img)\n",
    "test_img_flipped_and_mirrored"
   ],
   "metadata": {
    "collapsed": false,
    "pycharm": {
     "name": "#%%\n"
    }
   }
  },
  {
   "cell_type": "markdown",
   "source": [
    "pipeline creation"
   ],
   "metadata": {
    "collapsed": false
   }
  },
  {
   "cell_type": "code",
   "execution_count": 15,
   "outputs": [],
   "source": [
    "pipeline = create_pipeline(flip_and_mirror, rotate, rescale, translate)"
   ],
   "metadata": {
    "collapsed": false,
    "pycharm": {
     "name": "#%%\n"
    }
   }
  },
  {
   "cell_type": "code",
   "execution_count": 16,
   "outputs": [
    {
     "data": {
      "text/plain": "<PIL.Image.Image image mode=I size=512x512>",
      "image/png": "[encoded data removed]"
     },
     "execution_count": 16,
     "metadata": {},
     "output_type": "execute_result"
    }
   ],
   "source": [
    "# test example\n",
    "test_img_processed = pipeline(test_img)\n",
    "test_img_processed"
   ],
   "metadata": {
    "collapsed": false,
    "pycharm": {
     "name": "#%%\n"
    }
   }
  },
  {
   "cell_type": "markdown",
   "source": [
    "## Database creation"
   ],
   "metadata": {
    "collapsed": false,
    "pycharm": {
     "name": "#%% md\n"
    }
   }
  },
  {
   "cell_type": "code",
   "execution_count": 17,
   "outputs": [],
   "source": [
    "import uuid # for random image id generation"
   ],
   "metadata": {
    "collapsed": false,
    "pycharm": {
     "name": "#%%\n"
    }
   }
  },
  {
   "cell_type": "code",
   "execution_count": 22,
   "outputs": [],
   "source": [
    "save_path_train = \"data/dataset/train\"\n",
    "save_path_test = \"data/dataset/test\"\n",
    "\n",
    "def generate_training_image(number: int, train_test_split: float):\n",
    "    \"\"\"Randomly generate a certain number of training images without noise\"\"\"\n",
    "    if train_test_split< 0 or train_test_split >= 1:\n",
    "        raise Exception(\"The split percentage should be a float between 0 and 1!\")\n",
    "    if os.path.isdir(save_path_train): return # return if training image folder already exists\n",
    "    save_path_train_y = os.path.join(save_path_train, \"y\")\n",
    "    os.makedirs(save_path_train_y)\n",
    "    save_path_test_y = os.path.join(save_path_test, \"y\")\n",
    "    if train_test_split < 1:\n",
    "        os.makedirs(save_path_test_y)\n",
    "\n",
    "    generated_test_size = ceil(number * (1 - train_test_split))\n",
    "    generated_train_size = number - generated_test_size\n",
    "    for iter in range(number):\n",
    "        image_id = str(uuid.uuid4())\n",
    "        img = select()\n",
    "        img_processed = pipeline(img)\n",
    "        save_path_y = save_path_test_y if iter < generated_test_size else save_path_train_y\n",
    "        img_processed.save(os.path.join(save_path_y, f\"{image_id}.png\"))\n",
    "    print(\"Denoised image data augmentation finished.\")\n",
    "    print(f\"In total {number} images are generated, {generated_test_size} in test set and {generated_train_size} in training set.\")"
   ],
   "metadata": {
    "collapsed": false,
    "pycharm": {
     "name": "#%%\n"
    }
   }
  },
  {
   "cell_type": "code",
   "execution_count": 23,
   "outputs": [],
   "source": [
    "# number of images without noise\n",
    "train_size = 20000"
   ],
   "metadata": {
    "collapsed": false,
    "pycharm": {
     "name": "#%%\n"
    }
   }
  },
  {
   "cell_type": "code",
   "execution_count": 24,
   "outputs": [
    {
     "name": "stdout",
     "output_type": "stream",
     "text": [
      "Denoised image data augmentation finished.\n",
      "In total 20000 images are generated, 4000 in test set and 16000 in training set.\n"
     ]
    }
   ],
   "source": [
    "generate_training_image(train_size, train_test_split=0.8)"
   ],
   "metadata": {
    "collapsed": false,
    "pycharm": {
     "name": "#%%\n"
    }
   }
  }
 ],
 "metadata": {
  "kernelspec": {
   "display_name": "Python 3",
   "language": "python",
   "name": "python3"
  },
  "language_info": {
   "codemirror_mode": {
    "name": "ipython",
    "version": 2
   },
   "file_extension": ".py",
   "mimetype": "text/x-python",
   "name": "python",
   "nbconvert_exporter": "python",
   "pygments_lexer": "ipython2",
   "version": "2.7.6"
  }
 },
 "nbformat": 4,
 "nbformat_minor": 0
}