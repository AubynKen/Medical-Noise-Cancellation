{
 "cells": [
  {
   "cell_type": "markdown",
   "metadata": {
    "collapsed": true,
    "pycharm": {
     "name": "#%% md\n"
    }
   },
   "source": [
    "## Data augmentation\n",
    "#### Author: Pinglei He, Kaiao Wen, Albache Jean, Augusto Oliveira, Yassine Oudghiri"
   ]
  },
  {
   "cell_type": "markdown",
   "source": [
    "## Creation of dedicated functions"
   ],
   "metadata": {
    "collapsed": false,
    "pycharm": {
     "name": "#%% md\n"
    }
   }
  },
  {
   "cell_type": "markdown",
   "source": [
    "Module importation"
   ],
   "metadata": {
    "collapsed": false,
    "pycharm": {
     "name": "#%% md\n"
    }
   }
  },
  {
   "cell_type": "code",
   "execution_count": 55,
   "outputs": [],
   "source": [
    "# python modules\n",
    "from PIL import Image, ImageChops, ImageOps\n",
    "import numpy as np\n",
    "import random as rd\n",
    "import os\n",
    "from math import ceil"
   ],
   "metadata": {
    "collapsed": false,
    "pycharm": {
     "name": "#%%\n"
    }
   }
  },
  {
   "cell_type": "markdown",
   "source": [
    "Constants"
   ],
   "metadata": {
    "collapsed": false,
    "pycharm": {
     "name": "#%% md\n"
    }
   }
  },
  {
   "cell_type": "code",
   "execution_count": 26,
   "outputs": [],
   "source": [
    "pixel_max = 65535  # 32 bit unsigned integers\n",
    "base_path = \"dataset/base_png\"\n",
    "im_size = 512  # 512 * 512 pixels per base"
   ],
   "metadata": {
    "collapsed": false,
    "pycharm": {
     "name": "#%%\n"
    }
   }
  },
  {
   "cell_type": "code",
   "execution_count": 36,
   "outputs": [
    {
     "data": {
      "text/plain": "<PIL.Image.Image image mode=I size=512x512>",
      "image/png": "[encoded data removed]"
     },
     "execution_count": 36,
     "metadata": {},
     "output_type": "execute_result"
    }
   ],
   "source": [
    "im = Image.open(\"dataset/base_png/base1.png\")\n",
    "\n",
    "# thumnail and refill\n",
    "\n",
    "# im.thumbnail((500,500))\n",
    "# im = ImageOps.expand(im, border=(20, 10), fill=pixel_max)\n",
    "\n",
    "# rescale\n",
    "a = 1\n",
    "b = 0\n",
    "c = im_size / 2.5  #left/right (i.e. 5/-5)\n",
    "d = 0\n",
    "e = 1\n",
    "f = 0  #up/down (i.e. 5/-5)\n",
    "# im = ImageTransform.AffineTransform(im, )\n",
    "im.transform(im.size, Image.Transform.AFFINE, (a, b, c, d, e, f), fillcolor=pixel_max)"
   ],
   "metadata": {
    "collapsed": false,
    "pycharm": {
     "name": "#%%\n"
    }
   }
  },
  {
   "cell_type": "markdown",
   "source": [
    "## Pipeline Creation\n",
    "The following function combines multiple processing operations into one"
   ],
   "metadata": {
    "collapsed": false,
    "pycharm": {
     "name": "#%% md\n"
    }
   }
  },
  {
   "cell_type": "code",
   "execution_count": 39,
   "outputs": [],
   "source": [
    "def create_pipeline(*operations):\n",
    "    \"\"\"Select base image using selector function, and return the image after all transformations functions\"\"\"\n",
    "    def pipeline(img: Image.Image):\n",
    "        for op in operations:\n",
    "            img = op(img)\n",
    "        return img\n",
    "    return pipeline"
   ],
   "metadata": {
    "collapsed": false,
    "pycharm": {
     "name": "#%%\n"
    }
   }
  },
  {
   "cell_type": "markdown",
   "source": [
    "Function for selection of base image"
   ],
   "metadata": {
    "collapsed": false,
    "pycharm": {
     "name": "#%% md\n"
    }
   }
  },
  {
   "cell_type": "code",
   "execution_count": 41,
   "outputs": [],
   "source": [
    "def select() -> Image.Image:\n",
    "    \"\"\"Selects a random base image.\"\"\"\n",
    "    base_files = os.listdir(base_path)\n",
    "    selected = rd.choice(base_files)\n",
    "    return Image.open(os.path.join(base_path, selected))"
   ],
   "metadata": {
    "collapsed": false,
    "pycharm": {
     "name": "#%%\n"
    }
   }
  },
  {
   "cell_type": "code",
   "execution_count": 73,
   "outputs": [
    {
     "data": {
      "text/plain": "<PIL.PngImagePlugin.PngImageFile image mode=I size=512x511>",
      "image/png": "[encoded data removed]"
     },
     "execution_count": 73,
     "metadata": {},
     "output_type": "execute_result"
    }
   ],
   "source": [
    "# example\n",
    "test_img = select()\n",
    "test_img"
   ],
   "metadata": {
    "collapsed": false,
    "pycharm": {
     "name": "#%%\n"
    }
   }
  },
  {
   "cell_type": "code",
   "execution_count": 47,
   "outputs": [],
   "source": [
    "def rotate(img: Image.Image, angle=None) -> Image.Image:\n",
    "    if angle is None:\n",
    "        angle = rd.uniform(0, 360)\n",
    "    return img.rotate(angle, fillcolor=pixel_max)"
   ],
   "metadata": {
    "collapsed": false,
    "pycharm": {
     "name": "#%%\n"
    }
   }
  },
  {
   "cell_type": "code",
   "execution_count": 53,
   "outputs": [
    {
     "data": {
      "text/plain": "<PIL.Image.Image image mode=I size=512x511>",
      "image/png": "[encoded data removed]"
     },
     "execution_count": 53,
     "metadata": {},
     "output_type": "execute_result"
    }
   ],
   "source": [
    "# example\n",
    "test_img_rotated = rotate(test_img)\n",
    "test_img_rotated"
   ],
   "metadata": {
    "collapsed": false,
    "pycharm": {
     "name": "#%%\n"
    }
   }
  },
  {
   "cell_type": "code",
   "execution_count": 59,
   "outputs": [],
   "source": [
    "def rescale(img: Image.Image, scale=None) -> Image.Image:\n",
    "    if not scale:\n",
    "        scale = rd.uniform(0.1, 1)\n",
    "    # shrink the image\n",
    "    thumbnail_size = ceil(im_size * scale / 2) * 2\n",
    "    img.thumbnail((thumbnail_size, thumbnail_size))\n",
    "    # add border to have the original image dimensions\n",
    "    border_size = (im_size - thumbnail_size) // 2\n",
    "    return ImageOps.expand(img, border=border_size, fill=pixel_max)"
   ],
   "metadata": {
    "collapsed": false,
    "pycharm": {
     "name": "#%%\n"
    }
   }
  },
  {
   "cell_type": "code",
   "execution_count": 60,
   "outputs": [
    {
     "data": {
      "text/plain": "<PIL.Image.Image image mode=I size=366x366>",
      "image/png": "[encoded data removed]"
     },
     "execution_count": 60,
     "metadata": {},
     "output_type": "execute_result"
    }
   ],
   "source": [
    "# example\n",
    "test_img_rescaled = rescale(test_img)\n",
    "test_img_rescaled"
   ],
   "metadata": {
    "collapsed": false,
    "pycharm": {
     "name": "#%%\n"
    }
   }
  },
  {
   "cell_type": "code",
   "execution_count": 83,
   "outputs": [],
   "source": [
    "def translate(img: Image.Image, tx=None, ty=None) -> Image.Image:\n",
    "    \"\"\"\n",
    "    :param img: image file\n",
    "    :param tx: the number of pixels the image is translated to the left\n",
    "    :param ty: the number of pixels the image is translated to the right\n",
    "    :return: the translated image\n",
    "    \"\"\"\n",
    "    # if tx or ty set to none, randomly shift by -200 to 200 pixels in both directions\n",
    "    if not tx:\n",
    "        tx = rd.randint(-200, 200)\n",
    "    if not ty:\n",
    "        ty = rd.randint(-200, 200)\n",
    "    return ImageChops.offset(img, tx, ty)"
   ],
   "metadata": {
    "collapsed": false,
    "pycharm": {
     "name": "#%%\n"
    }
   }
  },
  {
   "cell_type": "code",
   "execution_count": 94,
   "outputs": [
    {
     "data": {
      "text/plain": "<PIL.Image.Image image mode=I size=512x511>",
      "image/png": "[encoded data removed]"
     },
     "execution_count": 94,
     "metadata": {},
     "output_type": "execute_result"
    }
   ],
   "source": [
    "test_img_shifted = translate(test_img)\n",
    "test_img_shifted"
   ],
   "metadata": {
    "collapsed": false,
    "pycharm": {
     "name": "#%%\n"
    }
   }
  },
  {
   "cell_type": "markdown",
   "source": [
    "pipeline creation"
   ],
   "metadata": {
    "collapsed": false,
    "pycharm": {
     "name": "#%% md\n"
    }
   }
  },
  {
   "cell_type": "code",
   "execution_count": 96,
   "outputs": [],
   "source": [
    "pipeline = create_pipeline(rotate, rescale, translate)"
   ],
   "metadata": {
    "collapsed": false,
    "pycharm": {
     "name": "#%%\n"
    }
   }
  },
  {
   "cell_type": "code",
   "execution_count": 97,
   "outputs": [
    {
     "data": {
      "text/plain": "<PIL.Image.Image image mode=I size=512x511>",
      "image/png": "[encoded data removed]"
     },
     "execution_count": 97,
     "metadata": {},
     "output_type": "execute_result"
    }
   ],
   "source": [
    "# test example\n",
    "test_img_processed = pipeline(test_img)\n",
    "test_img_processed"
   ],
   "metadata": {
    "collapsed": false,
    "pycharm": {
     "name": "#%%\n"
    }
   }
  },
  {
   "cell_type": "markdown",
   "source": [
    "## Database creation"
   ],
   "metadata": {
    "collapsed": false,
    "pycharm": {
     "name": "#%% md\n"
    }
   }
  },
  {
   "cell_type": "code",
   "execution_count": 99,
   "outputs": [],
   "source": [
    "import uuid # for random image id generation"
   ],
   "metadata": {
    "collapsed": false,
    "pycharm": {
     "name": "#%%\n"
    }
   }
  },
  {
   "cell_type": "code",
   "execution_count": 111,
   "outputs": [],
   "source": [
    "save_path = \"dataset/train\"\n",
    "\n",
    "def generate_training_image(number):\n",
    "    \"\"\"Randomly generate a certain number of training images without noise\"\"\"\n",
    "    if os.path.isdir(save_path): return # return if training image folder already exists\n",
    "    os.makedirs(os.path.join(save_path, \"x\"))\n",
    "    for _ in range(number):\n",
    "        image_id = str(uuid.uuid4())\n",
    "        img = select()\n",
    "        img_processed = pipeline(img)\n",
    "        img_processed.save(os.path.join(save_path, f\"{image_id}.png\"))"
   ],
   "metadata": {
    "collapsed": false,
    "pycharm": {
     "name": "#%%\n"
    }
   }
  },
  {
   "cell_type": "code",
   "execution_count": null,
   "outputs": [],
   "source": [
    "# number of images without noise\n",
    "train_size = 20000"
   ],
   "metadata": {
    "collapsed": false,
    "pycharm": {
     "name": "#%%\n"
    }
   }
  },
  {
   "cell_type": "code",
   "execution_count": 113,
   "outputs": [],
   "source": [
    "generate_training_image(train_size)"
   ],
   "metadata": {
    "collapsed": false,
    "pycharm": {
     "name": "#%%\n"
    }
   }
  }
 ],
 "metadata": {
  "kernelspec": {
   "display_name": "Python 3",
   "language": "python",
   "name": "python3"
  },
  "language_info": {
   "codemirror_mode": {
    "name": "ipython",
    "version": 2
   },
   "file_extension": ".py",
   "mimetype": "text/x-python",
   "name": "python",
   "nbconvert_exporter": "python",
   "pygments_lexer": "ipython2",
   "version": "2.7.6"
  }
 },
 "nbformat": 4,
 "nbformat_minor": 0
}