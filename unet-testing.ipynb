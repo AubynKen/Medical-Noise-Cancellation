{
 "cells": [
  {
   "cell_type": "markdown",
   "id": "f5f8ccdf-9b79-4fe3-8be6-2986f395a2bd",
   "metadata": {
    "pycharm": {
     "name": "#%% md\n"
    }
   },
   "source": [
    "# Testing the trained U-Net models"
   ]
  },
  {
   "cell_type": "markdown",
   "id": "586e8e49-0f6d-43b6-8b77-942603b4f369",
   "metadata": {
    "pycharm": {
     "name": "#%% md\n"
    }
   },
   "source": [
    "## Module imports"
   ]
  },
  {
   "cell_type": "code",
   "execution_count": null,
   "outputs": [],
   "source": [
    "#import matplotlib.pyplot as plt\n",
    "import torch\n",
    "from torch.utils.data import Dataset, DataLoader\n",
    "import torch.nn as nn\n",
    "from tqdm import tqdm # progress bar\n",
    "from torch.optim import Adam\n",
    "import numpy as np\n",
    "from skimage import metrics\n",
    "\n",
    "# custom modules\n",
    "from unet import StentDataset, UNet, ImageAugmentation"
   ],
   "metadata": {
    "collapsed": false,
    "pycharm": {
     "name": "#%%\n"
    }
   }
  },
  {
   "cell_type": "markdown",
   "source": [
    "## Loading the Model"
   ],
   "metadata": {
    "collapsed": false,
    "pycharm": {
     "name": "#%% md\n"
    }
   }
  },
  {
   "cell_type": "code",
   "execution_count": null,
   "outputs": [],
   "source": [
    "!ls saved_models/unet-exp1-iter_24000.pt"
   ],
   "metadata": {
    "collapsed": false,
    "pycharm": {
     "name": "#%%\n"
    }
   }
  },
  {
   "cell_type": "code",
   "execution_count": null,
   "outputs": [],
   "source": [
    "model_save_path = \"/home/igor/Work/CS/PP22/Medical-Noise-Cancellation/saved_models/unet-exp1-iter_24000.pt\"\n",
    "model = UNet(in_channels=1, out_channels=1)\n",
    "model.load_state_dict(torch.load(model_save_path, map_location=torch.device(\"cpu\")))\n",
    "model.eval()  # Switching to evaluation mode"
   ],
   "metadata": {
    "collapsed": false,
    "pycharm": {
     "name": "#%%\n"
    }
   }
  },
  {
   "cell_type": "markdown",
   "source": [
    "## Generating test data"
   ],
   "metadata": {
    "collapsed": false,
    "pycharm": {
     "name": "#%% md\n"
    }
   }
  },
  {
   "cell_type": "code",
   "execution_count": null,
   "outputs": [],
   "source": [
    "n_test_images = 10\n",
    "\n",
    "# custom image generator\n",
    "image_generator = ImageAugmentation(base_image_path=\"data/dataset/base_png\")\n",
    "\n",
    "# generate test images\n",
    "image_generator.generate_input_images(n_images=n_test_images,\n",
    "                                      save_path=\"data/dataset/test\",\n",
    "                                      generate_input=True,\n",
    "                                      print_progress=False)"
   ],
   "metadata": {
    "collapsed": false,
    "pycharm": {
     "name": "#%%\n"
    }
   }
  },
  {
   "cell_type": "code",
   "execution_count": null,
   "outputs": [],
   "source": [
    "batch_size = 2\n",
    "test_dataset = StentDataset(input_path=\"data/dataset/test/x\",\n",
    "                            target_path=\"data/dataset/test/y\")\n",
    "test_loader = DataLoader(test_dataset, batch_size=batch_size, shuffle=True)"
   ],
   "metadata": {
    "collapsed": false,
    "pycharm": {
     "name": "#%%\n"
    }
   }
  },
  {
   "cell_type": "code",
   "execution_count": 19,
   "id": "d5737d1c",
   "metadata": {},
   "outputs": [
    {
     "name": "stdout",
     "output_type": "stream",
     "text": [
      "Generating 10 output images...\n",
      "Print progress disabled since less than 100 images are generated.\n",
      "10 output images generated at data/dataset/test/y\n",
      "Generating 10 input images with noise...\n",
      "10 input images generated at data/dataset/test/x\n"
     ]
    }
   ],
   "source": [
    "n_test_images = 10\n",
    "\n",
    "# custom image generator\n",
    "image_generator = ImageAugmentation(base_image_path=\"data/dataset/base_png\")\n",
    "\n",
    "# generate test images\n",
    "image_generator.generate_input_images(n_images=n_test_images,\n",
    "                                      save_path=\"data/dataset/test\",\n",
    "                                      generate_input=True,\n",
    "                                      print_progress=False)"
   ]
  },
  {
   "cell_type": "code",
   "execution_count": 18,
   "id": "ff60bc16-c556-4c23-b66b-9afe624b8098",
   "metadata": {
    "pycharm": {
     "name": "#%%\n"
    }
   },
   "outputs": [
    {
     "ename": "FileNotFoundError",
     "evalue": "[Errno 2] No such file or directory: 'data/dataset/test/y'",
     "output_type": "error",
     "traceback": [
      "\u001B[0;31m---------------------------------------------------------------------------\u001B[0m",
      "\u001B[0;31mFileNotFoundError\u001B[0m                         Traceback (most recent call last)",
      "\u001B[0;32m/tmp/ipykernel_85154/3556684328.py\u001B[0m in \u001B[0;36m<module>\u001B[0;34m\u001B[0m\n\u001B[0;32m----> 1\u001B[0;31m test_dataset = StentDataset(input_path=\"data/dataset/test/x\",\n\u001B[0m\u001B[1;32m      2\u001B[0m                             target_path=\"data/dataset/test/y\")\n\u001B[1;32m      3\u001B[0m \u001B[0mtest_loader\u001B[0m \u001B[0;34m=\u001B[0m \u001B[0mDataLoader\u001B[0m\u001B[0;34m(\u001B[0m\u001B[0mtest_dataset\u001B[0m\u001B[0;34m,\u001B[0m \u001B[0mbatch_size\u001B[0m\u001B[0;34m=\u001B[0m\u001B[0mbatch_size\u001B[0m\u001B[0;34m,\u001B[0m \u001B[0mshuffle\u001B[0m\u001B[0;34m=\u001B[0m\u001B[0;32mTrue\u001B[0m\u001B[0;34m)\u001B[0m\u001B[0;34m\u001B[0m\u001B[0;34m\u001B[0m\u001B[0m\n",
      "\u001B[0;32m~/Work/CS/PP22/Medical-Noise-Cancellation/unet/unet_dataset.py\u001B[0m in \u001B[0;36m__init__\u001B[0;34m(self, input_path, target_path)\u001B[0m\n\u001B[1;32m     12\u001B[0m         \u001B[0mself\u001B[0m\u001B[0;34m.\u001B[0m\u001B[0mtarget_path\u001B[0m \u001B[0;34m=\u001B[0m \u001B[0mtarget_path\u001B[0m\u001B[0;34m\u001B[0m\u001B[0;34m\u001B[0m\u001B[0m\n\u001B[1;32m     13\u001B[0m         \u001B[0mself\u001B[0m\u001B[0;34m.\u001B[0m\u001B[0minput_files\u001B[0m \u001B[0;34m=\u001B[0m \u001B[0mos\u001B[0m\u001B[0;34m.\u001B[0m\u001B[0mlistdir\u001B[0m\u001B[0;34m(\u001B[0m\u001B[0mself\u001B[0m\u001B[0;34m.\u001B[0m\u001B[0minput_path\u001B[0m\u001B[0;34m)\u001B[0m\u001B[0;34m\u001B[0m\u001B[0;34m\u001B[0m\u001B[0m\n\u001B[0;32m---> 14\u001B[0;31m         \u001B[0mself\u001B[0m\u001B[0;34m.\u001B[0m\u001B[0mtarget_files\u001B[0m \u001B[0;34m=\u001B[0m \u001B[0mos\u001B[0m\u001B[0;34m.\u001B[0m\u001B[0mlistdir\u001B[0m\u001B[0;34m(\u001B[0m\u001B[0mself\u001B[0m\u001B[0;34m.\u001B[0m\u001B[0mtarget_path\u001B[0m\u001B[0;34m)\u001B[0m\u001B[0;34m\u001B[0m\u001B[0;34m\u001B[0m\u001B[0m\n\u001B[0m\u001B[1;32m     15\u001B[0m         \u001B[0mself\u001B[0m\u001B[0;34m.\u001B[0m\u001B[0minput_files\u001B[0m\u001B[0;34m.\u001B[0m\u001B[0msort\u001B[0m\u001B[0;34m(\u001B[0m\u001B[0;34m)\u001B[0m\u001B[0;34m\u001B[0m\u001B[0;34m\u001B[0m\u001B[0m\n\u001B[1;32m     16\u001B[0m         \u001B[0mself\u001B[0m\u001B[0;34m.\u001B[0m\u001B[0mtarget_files\u001B[0m\u001B[0;34m.\u001B[0m\u001B[0msort\u001B[0m\u001B[0;34m(\u001B[0m\u001B[0;34m)\u001B[0m\u001B[0;34m\u001B[0m\u001B[0;34m\u001B[0m\u001B[0m\n",
      "\u001B[0;31mFileNotFoundError\u001B[0m: [Errno 2] No such file or directory: 'data/dataset/test/y'"
     ]
    }
   ],
   "source": [
    "batch_size = 2\n",
    "test_dataset = StentDataset(input_path=\"data/dataset/test/x\",\n",
    "                            target_path=\"data/dataset/test/y\")\n",
    "test_loader = DataLoader(test_dataset, batch_size=batch_size, shuffle=True)"
   ]
  },
  {
   "cell_type": "markdown",
   "id": "9f2ad842-3aa9-4d82-8a78-3a90d9005e34",
   "metadata": {
    "pycharm": {
     "name": "#%% md\n"
    }
   },
   "source": [
    "## Testing model"
   ]
  },
  {
   "cell_type": "code",
   "execution_count": 1,
   "id": "2fd85c29-968b-49e6-a8c9-9dcf76fda4a6",
   "metadata": {
    "pycharm": {
     "name": "#%%\n"
    }
   },
   "outputs": [
    {
     "ename": "NameError",
     "evalue": "name 'tqdm' is not defined",
     "output_type": "error",
     "traceback": [
      "\u001B[0;31m---------------------------------------------------------------------------\u001B[0m",
      "\u001B[0;31mNameError\u001B[0m                                 Traceback (most recent call last)",
      "\u001B[0;32m/tmp/ipykernel_85154/340579425.py\u001B[0m in \u001B[0;36m<module>\u001B[0;34m\u001B[0m\n\u001B[1;32m      1\u001B[0m \u001B[0mPSNR\u001B[0m \u001B[0;34m=\u001B[0m \u001B[0;36m0\u001B[0m\u001B[0;34m\u001B[0m\u001B[0;34m\u001B[0m\u001B[0m\n\u001B[1;32m      2\u001B[0m \u001B[0mSSIM\u001B[0m \u001B[0;34m=\u001B[0m \u001B[0;36m0\u001B[0m\u001B[0;34m\u001B[0m\u001B[0;34m\u001B[0m\u001B[0m\n\u001B[0;32m----> 3\u001B[0;31m \u001B[0;32mfor\u001B[0m \u001B[0mi\u001B[0m\u001B[0;34m,\u001B[0m \u001B[0mdata\u001B[0m \u001B[0;32min\u001B[0m \u001B[0menumerate\u001B[0m\u001B[0;34m(\u001B[0m\u001B[0mtqdm\u001B[0m\u001B[0;34m(\u001B[0m\u001B[0mtest_loader\u001B[0m\u001B[0;34m)\u001B[0m\u001B[0;34m)\u001B[0m\u001B[0;34m:\u001B[0m\u001B[0;34m\u001B[0m\u001B[0;34m\u001B[0m\u001B[0m\n\u001B[0m\u001B[1;32m      4\u001B[0m     \u001B[0;31m# Get inputs and targets\u001B[0m\u001B[0;34m\u001B[0m\u001B[0;34m\u001B[0m\u001B[0m\n\u001B[1;32m      5\u001B[0m     \u001B[0minputs\u001B[0m\u001B[0;34m,\u001B[0m \u001B[0mtargets\u001B[0m \u001B[0;34m=\u001B[0m \u001B[0mdata\u001B[0m\u001B[0;34m\u001B[0m\u001B[0;34m\u001B[0m\u001B[0m\n",
      "\u001B[0;31mNameError\u001B[0m: name 'tqdm' is not defined"
     ]
    }
   ],
   "source": [
    "PSNR = 0\n",
    "SSIM = 0\n",
    "for i, data in enumerate(tqdm(test_loader)):\n",
    "    # Get inputs and targets\n",
    "    inputs, targets = data\n",
    "    # Calculate outputs\n",
    "    outputs = model(inputs)\n",
    "    # Preprocess output tensors and targets for scikit-image\n",
    "    outputs = outputs.detach().numpy()[:, 0, delta:-delta, delta:-delta]\n",
    "    targets = targets.detach().numpy()[:, 0, delta:-delta, delta:-delta]\n",
    "    # Calculate metrics\n",
    "    for j in range(batch_size):\n",
    "        output = outputs[j, ...]\n",
    "        target = targets[j, ...]\n",
    "        PSNR = PSNR + metrics.peak_signal_noise_ratio(target, output)/n_test_images\n",
    "        SSIM = SSIM + metrics.structural_similarity(target, output)/n_test_images"
   ]
  }
 ],
 "metadata": {
  "interpreter": {
   "hash": "ca714bba6b2c19458039b088896400720790da3b44f79119ce880fc040ed7eb2"
  },
  "kernelspec": {
   "display_name": "Python mnc_venv",
   "language": "python",
   "name": "python3"
  },
  "language_info": {
   "codemirror_mode": {
    "name": "ipython",
    "version": 3
   },
   "file_extension": ".py",
   "mimetype": "text/x-python",
   "name": "python",
   "nbconvert_exporter": "python",
   "pygments_lexer": "ipython3",
   "version": "3.9.7"
  }
 },
 "nbformat": 4,
 "nbformat_minor": 5
}