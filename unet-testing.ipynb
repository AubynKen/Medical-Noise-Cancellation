{
 "cells": [
  {
   "cell_type": "markdown",
   "id": "f5f8ccdf-9b79-4fe3-8be6-2986f395a2bd",
   "metadata": {
    "pycharm": {
     "name": "#%% md\n"
    }
   },
   "source": [
    "# Testing the trained U-Net models"
   ]
  },
  {
   "cell_type": "markdown",
   "id": "586e8e49-0f6d-43b6-8b77-942603b4f369",
   "metadata": {
    "pycharm": {
     "name": "#%% md\n"
    }
   },
   "source": [
    "## Module imports"
   ]
  },
  {
   "cell_type": "code",
   "execution_count": null,
   "id": "f3bbfdc6-cdd8-4d6b-9517-7e8074ee4fe6",
   "metadata": {
    "pycharm": {
     "name": "#%%\n"
    }
   },
   "outputs": [],
   "source": [
    "#import matplotlib.pyplot as plt\n",
    "import torch\n",
    "from torch.utils.data import Dataset, DataLoader\n",
    "import torch.nn as nn\n",
    "from tqdm import tqdm # progress bar\n",
    "from torch.optim import Adam\n",
    "import numpy as np\n",
    "from skimage import metrics\n",
    "\n",
    "# custom modules\n",
    "from unet import StentDataset, UNet"
   ]
  },
  {
   "cell_type": "markdown",
   "id": "9fa517e0-0902-4cfc-a92e-c56155da6de8",
   "metadata": {
    "pycharm": {
     "name": "#%% md\n"
    }
   },
   "source": [
    "## Loading the Model"
   ]
  },
  {
   "cell_type": "code",
   "execution_count": null,
   "id": "39cb084f-9410-40f8-bb42-0329c424795b",
   "metadata": {
    "pycharm": {
     "name": "#%%\n"
    }
   },
   "outputs": [],
   "source": [
    "model_save_path = \"./weights/iter_24000.pt\"\n",
    "model = UNet(in_channels=1, out_channels=1)\n",
    "model.double()\n",
    "#model.load_state_dict(torch.load(model_save_path))\n",
    "model.eval()  # Switching to evaluation mode"
   ]
  },
  {
   "cell_type": "markdown",
   "id": "f871e77c-1296-4f00-bef5-35e573e55d4b",
   "metadata": {
    "pycharm": {
     "name": "#%% md\n"
    }
   },
   "source": [
    "## Loading test data"
   ]
  },
  {
   "cell_type": "code",
   "execution_count": null,
   "id": "ff60bc16-c556-4c23-b66b-9afe624b8098",
   "metadata": {
    "pycharm": {
     "name": "#%%\n"
    }
   },
   "outputs": [],
   "source": [
    "n_test_images = 10\n",
    "batch_size = 2 \n",
    "delta = 94\n",
    "\n",
    "\n",
    "test_dataset = StentDataset(input_path=\"data/dataset/test/x\",\n",
    "                            target_path=\"data/dataset/test/y\")\n",
    "test_loader = DataLoader(test_dataset, batch_size=batch_size, shuffle=True)"
   ]
  },
  {
   "cell_type": "markdown",
   "id": "9f2ad842-3aa9-4d82-8a78-3a90d9005e34",
   "metadata": {
    "pycharm": {
     "name": "#%% md\n"
    }
   },
   "source": [
    "## Testing model"
   ]
  },
  {
   "cell_type": "code",
   "execution_count": null,
   "id": "2fd85c29-968b-49e6-a8c9-9dcf76fda4a6",
   "metadata": {
    "pycharm": {
     "name": "#%%\n"
    }
   },
   "outputs": [],
   "source": [
    "PSNR = 0\n",
    "SSIM = 0\n",
    "for i, data in enumerate(tqdm(test_loader)):\n",
    "    # Get inputs and targets\n",
    "    inputs, targets = data\n",
    "    # Calculate outputs\n",
    "    outputs = model(inputs)\n",
    "    # Preprocess output tensors and targets for scikit-image\n",
    "    outputs = outputs.detach().numpy()[:, 0, delta:-delta, delta:-delta]\n",
    "    targets = targets.detach().numpy()[:, 0, delta:-delta, delta:-delta]\n",
    "    # Calculate metrics\n",
    "    for j in range(batch_size):\n",
    "        output = outputs[j, ...]\n",
    "        target = targets[j, ...]\n",
    "        PSNR = PSNR + metrics.peak_signal_noise_ratio(target, output)/n_test_images\n",
    "        SSIM = SSIM + metrics.structural_similarity(target, output)/n_test_images"
   ]
  }
 ],
 "metadata": {
  "interpreter": {
   "hash": "ca714bba6b2c19458039b088896400720790da3b44f79119ce880fc040ed7eb2"
  },
  "kernelspec": {
   "display_name": "Python mnc_venv",
   "language": "python",
   "name": "python3"
  },
  "language_info": {
   "codemirror_mode": {
    "name": "ipython",
    "version": 3
   },
   "file_extension": ".py",
   "mimetype": "text/x-python",
   "name": "python",
   "nbconvert_exporter": "python",
   "pygments_lexer": "ipython3",
   "version": "3.9.7"
  }
 },
 "nbformat": 4,
 "nbformat_minor": 5
}