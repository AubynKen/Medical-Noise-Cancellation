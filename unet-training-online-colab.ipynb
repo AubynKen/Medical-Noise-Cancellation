{
 "cells": [
  {
   "cell_type": "markdown",
   "source": [
    "# Training on online dataset\n",
    "author: Pinglei He, Igor Augusto Oliveira"
   ],
   "metadata": {
    "collapsed": false,
    "pycharm": {
     "name": "#%% md\n"
    },
    "id": "P_2zYo4jVrTz"
   }
  },
  {
   "cell_type": "markdown",
   "source": [
    "## Mounting google drive"
   ],
   "metadata": {
    "id": "ITdXyskTaoHP"
   }
  },
  {
   "cell_type": "code",
   "source": [
    "# mount google drive to colab\n",
    "from google.colab import drive\n",
    "drive.mount('/content/drive')\n",
    "\n",
    "# list content of the directory to ensure the mounting is successful\n",
    "!ls ./drive/MyDrive/Medical-Noise-Cancellation\n",
    "\n",
    "# add project root to python module paths\n",
    "import sys\n",
    "sys.path.insert(0, \"/content/drive/MyDrive/Medical-Noise-Cancellation\")"
   ],
   "metadata": {
    "colab": {
     "base_uri": "https://localhost:8080/"
    },
    "id": "rJV1gWxgVuZW",
    "executionInfo": {
     "status": "ok",
     "timestamp": 1650978565945,
     "user_tz": -120,
     "elapsed": 16162,
     "user": {
      "displayName": "Évi Pinglei He",
      "userId": "02882825246800120604"
     }
    },
    "outputId": "93125205-16a3-4c21-9939-e34bd03deeb9"
   },
   "execution_count": 1,
   "outputs": [
    {
     "output_type": "stream",
     "name": "stdout",
     "text": [
      "Mounted at /content/drive\n",
      "archives\t\t model\t\tunet-training.ipynb\n",
      "bm3d\t\t\t model_gpu\tunet-training-online.ipynb\n",
      "data\t\t\t README.md\tweights\n",
      "data-augmentation.ipynb  result_images\tweights_first_run\n",
      "evaluation\t\t runs\n"
     ]
    }
   ]
  },
  {
   "cell_type": "markdown",
   "source": [
    "## Hardware information"
   ],
   "metadata": {
    "id": "J7xltyOMxrtU"
   }
  },
  {
   "cell_type": "code",
   "source": [
    "# colab GPU information\n",
    "gpu_info = !nvidia-smi\n",
    "gpu_info = '\\n'.join(gpu_info)\n",
    "if gpu_info.find('failed') >= 0:\n",
    "  print('Not connected to a GPU')\n",
    "else:\n",
    "  print(gpu_info)\n",
    "\n",
    "from psutil import virtual_memory\n",
    "ram_gb = virtual_memory().total / 1e9\n",
    "print('Your runtime has {:.1f} gigabytes of available RAM\\n'.format(ram_gb))\n",
    "\n",
    "# determine whether the current is high-RAM for choosing the right batch size\n",
    "if ram_gb < 20:\n",
    "  print('Not using a high-RAM runtime')\n",
    "else:\n",
    "  print('Using a high-RAM runtime!')"
   ],
   "metadata": {
    "colab": {
     "base_uri": "https://localhost:8080/"
    },
    "id": "zkvu1HBRxwKA",
    "executionInfo": {
     "status": "ok",
     "timestamp": 1650978566248,
     "user_tz": -120,
     "elapsed": 308,
     "user": {
      "displayName": "Évi Pinglei He",
      "userId": "02882825246800120604"
     }
    },
    "outputId": "8861f683-c0eb-4815-bce9-2528c2e9fc85"
   },
   "execution_count": 2,
   "outputs": [
    {
     "output_type": "stream",
     "name": "stdout",
     "text": [
      "Tue Apr 26 13:09:25 2022       \n",
      "+-----------------------------------------------------------------------------+\n",
      "| NVIDIA-SMI 460.32.03    Driver Version: 460.32.03    CUDA Version: 11.2     |\n",
      "|-------------------------------+----------------------+----------------------+\n",
      "| GPU  Name        Persistence-M| Bus-Id        Disp.A | Volatile Uncorr. ECC |\n",
      "| Fan  Temp  Perf  Pwr:Usage/Cap|         Memory-Usage | GPU-Util  Compute M. |\n",
      "|                               |                      |               MIG M. |\n",
      "|===============================+======================+======================|\n",
      "|   0  Tesla P100-PCIE...  Off  | 00000000:00:04.0 Off |                    0 |\n",
      "| N/A   40C    P0    26W / 250W |      0MiB / 16280MiB |      0%      Default |\n",
      "|                               |                      |                  N/A |\n",
      "+-------------------------------+----------------------+----------------------+\n",
      "                                                                               \n",
      "+-----------------------------------------------------------------------------+\n",
      "| Processes:                                                                  |\n",
      "|  GPU   GI   CI        PID   Type   Process name                  GPU Memory |\n",
      "|        ID   ID                                                   Usage      |\n",
      "|=============================================================================|\n",
      "|  No running processes found                                                 |\n",
      "+-----------------------------------------------------------------------------+\n",
      "Your runtime has 27.3 gigabytes of available RAM\n",
      "\n",
      "Using a high-RAM runtime!\n"
     ]
    }
   ]
  },
  {
   "cell_type": "markdown",
   "source": [
    "## Module imports"
   ],
   "metadata": {
    "id": "j6k-JRAQjKOf"
   }
  },
  {
   "cell_type": "code",
   "source": [
    "import matplotlib.pyplot as plt # for plotting\n",
    "from torch.utils.data import DataLoader\n",
    "from torch.nn import MSELoss # mean square error loss\n",
    "from torch import Tensor\n",
    "from torch.optim.lr_scheduler import OneCycleLR # learning rate decay\n",
    "from torch.optim import AdamW\n",
    "from tqdm import tqdm # progress bar\n",
    "from torch.utils.tensorboard import SummaryWriter # for saving metrics and losses\n",
    "import torch\n",
    "import pickle # for saving model state\n",
    "import numpy as np\n",
    "from PIL import Image"
   ],
   "metadata": {
    "id": "HwieL00sesiD",
    "executionInfo": {
     "status": "ok",
     "timestamp": 1650978568478,
     "user_tz": -120,
     "elapsed": 2232,
     "user": {
      "displayName": "Évi Pinglei He",
      "userId": "02882825246800120604"
     }
    }
   },
   "execution_count": 3,
   "outputs": []
  },
  {
   "cell_type": "code",
   "source": [
    "# custom modules fitted for batch training with cuda / GPU\n",
    "from model_gpu import (StentOnlineDataset,\n",
    "                        StentDataset,\n",
    "                        UNet) # our PyTorch U-Net model"
   ],
   "metadata": {
    "id": "I-tOjdonewGb",
    "executionInfo": {
     "status": "ok",
     "timestamp": 1650978569577,
     "user_tz": -120,
     "elapsed": 1101,
     "user": {
      "displayName": "Évi Pinglei He",
      "userId": "02882825246800120604"
     }
    }
   },
   "execution_count": 4,
   "outputs": []
  },
  {
   "cell_type": "markdown",
   "source": [
    "## Parameters"
   ],
   "metadata": {
    "id": "cJQpd2pl_V48"
   }
  },
  {
   "cell_type": "code",
   "source": [
    "# root directory of the project\n",
    "root_dir = \"drive/MyDrive/Medical-Noise-Cancellation/\" # google drive\n",
    "\n",
    "# parameters used in training\n",
    "n_images = 10005 # number of images\n",
    "batch_size = 5 # training set batch size ie. number of images per iteration\n",
    "val_batch_size = 1 # validation set batch size\n",
    "lr = 0.0002 # initial learning rate\n",
    "\n",
    "# learning rate decay parameters\n",
    "# scheduler_patience = 80 # set number of validations with no improvement after which the scheduler would decrease the lr\n",
    "# lr_schedule_factor = 0.1 # new_lr = lr * schedule_factor when learning rate is decayed\n",
    "\n",
    "# parameters about previously trained / cached weights\n",
    "use_cached_weights = False # use models weights that we cached at checkpoint\n",
    "path_weights = root_dir + \"weights/unet-model_7000.pkl\" # path to cached weights\n",
    "previous_iter_count = 7000 # number of iterations we trained the model for before launching this notebook if use_cached_weights\n"
   ],
   "metadata": {
    "id": "8Zkrkan9_Xam",
    "executionInfo": {
     "status": "ok",
     "timestamp": 1650978569579,
     "user_tz": -120,
     "elapsed": 6,
     "user": {
      "displayName": "Évi Pinglei He",
      "userId": "02882825246800120604"
     }
    }
   },
   "execution_count": 5,
   "outputs": []
  },
  {
   "cell_type": "markdown",
   "source": [
    "## Initialization"
   ],
   "metadata": {
    "id": "nr3f7CgQjOUt"
   }
  },
  {
   "cell_type": "code",
   "source": [
    "# clear GPU memory if cuda used\n",
    "if torch.cuda.is_available():\n",
    "    torch.cuda.empty_cache()"
   ],
   "metadata": {
    "id": "rFTZkDC2fVvv",
    "executionInfo": {
     "status": "ok",
     "timestamp": 1650978569948,
     "user_tz": -120,
     "elapsed": 4,
     "user": {
      "displayName": "Évi Pinglei He",
      "userId": "02882825246800120604"
     }
    }
   },
   "execution_count": 6,
   "outputs": []
  },
  {
   "cell_type": "code",
   "source": [
    "# instantiate the model\n",
    "model = None\n",
    "if use_cached_weights:\n",
    "    # load pretrained model with pickle\n",
    "    with open(path_weights, \"rb\") as f:\n",
    "        model = pickle.load(f)\n",
    "else:\n",
    "    # create new model\n",
    "    model = UNet(in_channels=1, out_channels=1)\n",
    "    # use double precision\n",
    "    # model.double()\n",
    "\n",
    "# print information on GPU availability of current runtime\n",
    "if torch.cuda.is_available():\n",
    "    model = model.cuda()\n",
    "    if not next(model.parameters()).is_cuda:\n",
    "      print(\"There is a CUDA device available, but the model was not successfuly sent to it.\")\n",
    "    else:\n",
    "      print(\"Model successfully loaded to cuda.\")"
   ],
   "metadata": {
    "colab": {
     "base_uri": "https://localhost:8080/"
    },
    "id": "CJlh-LK7ftYj",
    "executionInfo": {
     "status": "ok",
     "timestamp": 1650978578837,
     "user_tz": -120,
     "elapsed": 8892,
     "user": {
      "displayName": "Évi Pinglei He",
      "userId": "02882825246800120604"
     }
    },
    "outputId": "0f7c5219-a771-4be2-ab96-bf4ed7842324"
   },
   "execution_count": 7,
   "outputs": [
    {
     "output_type": "stream",
     "name": "stdout",
     "text": [
      "Model successfully loaded to cuda.\n"
     ]
    }
   ]
  },
  {
   "cell_type": "code",
   "source": [
    "# custom image dataset class with real-time augmentation\n",
    "dataset = StentOnlineDataset(n_images=n_images, base_image_path=root_dir + \"data/dataset/base_png\")\n",
    "# pytorch dataset object\n",
    "data_loader = DataLoader(dataset, batch_size=batch_size, shuffle=False)\n",
    "\n",
    "# validation set\n",
    "val_dataset = StentDataset(input_path=root_dir + \"data/dataset/val_noisy_png\",\n",
    "                           target_path=root_dir + \"data/dataset/val_base_png\")\n",
    "val_data_loader = DataLoader(val_dataset, batch_size=val_batch_size, shuffle=False)"
   ],
   "metadata": {
    "id": "gCH63el8iC-J",
    "executionInfo": {
     "status": "ok",
     "timestamp": 1650978579245,
     "user_tz": -120,
     "elapsed": 412,
     "user": {
      "displayName": "Évi Pinglei He",
      "userId": "02882825246800120604"
     }
    }
   },
   "execution_count": 8,
   "outputs": []
  },
  {
   "cell_type": "code",
   "source": [
    "# mean square error for avoiding the model to over-whiten the output image when the stent sizes are small\n",
    "criterion = MSELoss()\n",
    "# optimizer = Adam(model.parameters(), lr=lr)\n",
    "# scheduler = ReduceLROnPlateau(optimizer, \n",
    "#                               mode='min', \n",
    "#                               patience=scheduler_patience, \n",
    "#                               verbose=True, \n",
    "#                               factor=lr_schedule_factor)\n",
    "optimizer = AdamW(model.parameters(), lr=lr)\n",
    "scheduler = OneCycleLR(optimizer, max_lr=lr, total_steps=int(n_images/batch_size))"
   ],
   "metadata": {
    "id": "h2-D1uXCjGW1",
    "executionInfo": {
     "status": "ok",
     "timestamp": 1650978579246,
     "user_tz": -120,
     "elapsed": 11,
     "user": {
      "displayName": "Évi Pinglei He",
      "userId": "02882825246800120604"
     }
    }
   },
   "execution_count": 9,
   "outputs": []
  },
  {
   "cell_type": "markdown",
   "source": [
    "## Model Summary"
   ],
   "metadata": {
    "id": "MiJkLBRl_Gsz"
   }
  },
  {
   "cell_type": "code",
   "source": [
    "print(model)"
   ],
   "metadata": {
    "colab": {
     "base_uri": "https://localhost:8080/"
    },
    "id": "sptclqqk_M6M",
    "executionInfo": {
     "status": "ok",
     "timestamp": 1650978579246,
     "user_tz": -120,
     "elapsed": 11,
     "user": {
      "displayName": "Évi Pinglei He",
      "userId": "02882825246800120604"
     }
    },
    "outputId": "78ccbd71-03b8-4c12-eeba-ac5660d89514"
   },
   "execution_count": 10,
   "outputs": [
    {
     "output_type": "stream",
     "name": "stdout",
     "text": [
      "UNet(\n",
      "  (max_pool): MaxPool2d(kernel_size=2, stride=2, padding=0, dilation=1, ceil_mode=False)\n",
      "  (conv_down_0): Sequential(\n",
      "    (0): Conv2d(1, 64, kernel_size=(3, 3), stride=(1, 1))\n",
      "    (1): ReLU()\n",
      "    (2): Conv2d(64, 64, kernel_size=(3, 3), stride=(1, 1))\n",
      "    (3): ReLU()\n",
      "  )\n",
      "  (conv_down_1): Sequential(\n",
      "    (0): Conv2d(64, 128, kernel_size=(3, 3), stride=(1, 1))\n",
      "    (1): ReLU()\n",
      "    (2): Conv2d(128, 128, kernel_size=(3, 3), stride=(1, 1))\n",
      "    (3): ReLU()\n",
      "  )\n",
      "  (conv_down_2): Sequential(\n",
      "    (0): Conv2d(128, 256, kernel_size=(3, 3), stride=(1, 1))\n",
      "    (1): ReLU()\n",
      "    (2): Conv2d(256, 256, kernel_size=(3, 3), stride=(1, 1))\n",
      "    (3): ReLU()\n",
      "  )\n",
      "  (conv_down_3): Sequential(\n",
      "    (0): Conv2d(256, 512, kernel_size=(3, 3), stride=(1, 1))\n",
      "    (1): ReLU()\n",
      "    (2): Conv2d(512, 512, kernel_size=(3, 3), stride=(1, 1))\n",
      "    (3): ReLU()\n",
      "  )\n",
      "  (conv_down_4): Sequential(\n",
      "    (0): Conv2d(512, 1024, kernel_size=(3, 3), stride=(1, 1))\n",
      "    (1): ReLU()\n",
      "    (2): Conv2d(1024, 1024, kernel_size=(3, 3), stride=(1, 1))\n",
      "    (3): ReLU()\n",
      "  )\n",
      "  (up_conv_4_3): ConvTranspose2d(1024, 512, kernel_size=(2, 2), stride=(2, 2))\n",
      "  (conv_up_3): Sequential(\n",
      "    (0): Conv2d(1024, 512, kernel_size=(3, 3), stride=(1, 1))\n",
      "    (1): ReLU()\n",
      "    (2): Conv2d(512, 512, kernel_size=(3, 3), stride=(1, 1))\n",
      "    (3): ReLU()\n",
      "  )\n",
      "  (up_conv_3_2): ConvTranspose2d(512, 256, kernel_size=(2, 2), stride=(2, 2))\n",
      "  (conv_up_2): Sequential(\n",
      "    (0): Conv2d(512, 256, kernel_size=(3, 3), stride=(1, 1))\n",
      "    (1): ReLU()\n",
      "    (2): Conv2d(256, 256, kernel_size=(3, 3), stride=(1, 1))\n",
      "    (3): ReLU()\n",
      "  )\n",
      "  (up_conv_2_1): ConvTranspose2d(256, 128, kernel_size=(2, 2), stride=(2, 2))\n",
      "  (conv_up_1): Sequential(\n",
      "    (0): Conv2d(256, 128, kernel_size=(3, 3), stride=(1, 1))\n",
      "    (1): ReLU()\n",
      "    (2): Conv2d(128, 128, kernel_size=(3, 3), stride=(1, 1))\n",
      "    (3): ReLU()\n",
      "  )\n",
      "  (up_conv_1_0): ConvTranspose2d(128, 64, kernel_size=(2, 2), stride=(2, 2))\n",
      "  (conv_up_0): Sequential(\n",
      "    (0): Conv2d(128, 64, kernel_size=(3, 3), stride=(1, 1))\n",
      "    (1): ReLU()\n",
      "    (2): Conv2d(64, 64, kernel_size=(3, 3), stride=(1, 1))\n",
      "    (3): ReLU()\n",
      "  )\n",
      "  (out): Conv2d(64, 1, kernel_size=(1, 1), stride=(1, 1))\n",
      ")\n"
     ]
    }
   ]
  },
  {
   "cell_type": "markdown",
   "source": [
    "## Training"
   ],
   "metadata": {
    "id": "xKPb_73hkaXY"
   }
  },
  {
   "cell_type": "code",
   "source": [
    "# save the losses for analysis\n",
    "# writer = SummaryWriter(log_dir=root_dir + \"runs/2022_04_25_b\")\n",
    "train_losses = []\n",
    "val_losses = []\n",
    "lrs = []"
   ],
   "metadata": {
    "id": "pYhHmukQkkKK",
    "executionInfo": {
     "status": "ok",
     "timestamp": 1650978579246,
     "user_tz": -120,
     "elapsed": 4,
     "user": {
      "displayName": "Évi Pinglei He",
      "userId": "02882825246800120604"
     }
    }
   },
   "execution_count": 11,
   "outputs": []
  },
  {
   "cell_type": "code",
   "source": [
    "# training\n",
    "for i, data in enumerate(tqdm(data_loader)):\n",
    "    # get the inputs\n",
    "    inputs, targets = data\n",
    "    # send to GPU\n",
    "    if torch.cuda.is_available():\n",
    "      inputs = inputs.cuda()\n",
    "      targets = targets.cuda()\n",
    "    # zero the parameter gradients\n",
    "    optimizer.zero_grad()\n",
    "    # forward + backward + optimize\n",
    "    outputs = model(inputs)\n",
    "    loss = criterion(outputs, targets)\n",
    "    loss.backward()\n",
    "    optimizer.step()\n",
    "    scheduler.step()\n",
    "\n",
    "    # record the losss\n",
    "    # writer.add_scalar('Loss/train', loss.item(), i)\n",
    "    # writer.add_scalar(\"Log loss/train\", np.log(loss.item()), i)\n",
    "    train_losses.append(loss.item())\n",
    "    lrs.append(optimizer.param_groups[0][\"lr\"])\n",
    "\n",
    "    # print metric on validation set every 10 iterations\n",
    "    if i % 10 == 0:\n",
    "      running_loss = 0.0\n",
    "      for vdata in val_data_loader:\n",
    "        vinputs, vtargets = vdata\n",
    "        if torch.cuda.is_available():\n",
    "          vinputs = vinputs.cuda()\n",
    "          vtargets = vtargets.cuda()\n",
    "        voutputs = model(vinputs)\n",
    "        vloss = criterion(voutputs, vtargets)\n",
    "        running_loss += vloss.item()\n",
    "      \n",
    "      avg_vloss = running_loss / 3\n",
    "      print(f\"Validation loss: {avg_vloss}\")\n",
    "      # writer.add_scalar(\"Loss/validation\", avg_vloss, i)\n",
    "      # writer.add_scalar(\"Log loss/validation\", np.log(avg_vloss), i)\n",
    "      # writer.add_scalar(\"Log10 lr\", np.log10(optimizer.param_groups[0]['lr']), i)\n",
    "      val_losses.append(avg_vloss)\n",
    "\n",
    "\n",
    "      # learning rate decays when the validation loss plateaus\n",
    "      \n",
    "\n",
    "    # checkpoint\n",
    "    if i % 500 == 0:\n",
    "      torch.save(model.state_dict(), root_dir + f\"weights/iter_{i:05d}.pt\")\n",
    "      # with open(root_dir + \"weights/scheduler.pickle\", \"wb\") as f:\n",
    "      #   pickle.dump(scheduler, f)\n",
    "      with open(root_dir + \"weights/losses.pickle\", \"wb\") as f:\n",
    "        pickle.dump({\"train_losses\": train_losses, \"val_losses\": val_losses, \"lrs\": lrs}, f)\n",
    "\n",
    "\n",
    "    # show image\n",
    "    if i < 20 or i < 200 and i % 5 == 0 or i < 1000 and i % 50 == 0 or i % 200 == 0:\n",
    "        # if using cuda, copy input tensor and output tensor to CPU for printing\n",
    "        if torch.cuda.is_available():\n",
    "          inputs = Tensor.cpu(inputs)\n",
    "          outputs = Tensor.cpu(outputs)\n",
    "          targets = Tensor.cpu(targets)\n",
    "        print(f\"Step [{i + 1}/{len(data_loader)}], Loss:{loss.item()}, Lr: {optimizer.param_groups[0]['lr']}\")\n",
    "        # print(\"Original image:\")\n",
    "        plt.figure()\n",
    "        plt.imshow(inputs.detach().numpy()[0, 0, 94:-94, 94:-94], cmap=\"gray\")\n",
    "        plt.savefig(root_dir + f\"result_images/iter_{i:05d}_input.png\", bbox_inches='tight')\n",
    "        # plt.show()\n",
    "\n",
    "        # print(\"Predicted image:\")\n",
    "        plt.figure()\n",
    "        plt.imshow(outputs.detach().numpy()[0, 0], cmap=\"gray\")\n",
    "        plt.savefig(root_dir + f\"result_images/iter_{i:05d}_prediction.png\", bbox_inches='tight')\n",
    "        # plt.show()\n",
    "\n",
    "        # print(\"Ground truth:\")\n",
    "        plt.figure()\n",
    "        plt.imshow(targets.detach().numpy()[0, 0], cmap=\"gray\")\n",
    "        plt.savefig(root_dir + f\"result_images/iter_{i:05d}_target.png\", bbox_inches='tight')\n",
    "        # plt.show()\n",
    "\n",
    "        plt.close(\"all\")"
   ],
   "metadata": {
    "colab": {
     "base_uri": "https://localhost:8080/"
    },
    "id": "BJIGudDIkvqo",
    "outputId": "b2b6dc0f-7915-4415-ff4d-67239da9b4a9",
    "executionInfo": {
     "status": "ok",
     "timestamp": 1650991805502,
     "user_tz": -120,
     "elapsed": 10797207,
     "user": {
      "displayName": "Évi Pinglei He",
      "userId": "02882825246800120604"
     }
    }
   },
   "execution_count": 12,
   "outputs": [
    {
     "metadata": {
      "tags": null
     },
     "name": "stderr",
     "output_type": "stream",
     "text": [
      "\r  0%|          | 0/2001 [00:00<?, ?it/s]"
     ]
    },
    {
     "metadata": {
      "tags": null
     },
     "name": "stdout",
     "output_type": "stream",
     "text": [
      "Validation loss: 1.0520263691603413\n",
      "Step [1/2001], Loss:1.0531486072013352, Lr: 8.001319020158374e-06\n"
     ]
    },
    {
     "metadata": {
      "tags": null
     },
     "name": "stderr",
     "output_type": "stream",
     "text": [
      "\r  0%|          | 1/2001 [00:20<11:31:42, 20.75s/it]"
     ]
    },
    {
     "metadata": {
      "tags": null
     },
     "name": "stdout",
     "output_type": "stream",
     "text": [
      "Step [2/2001], Loss:1.037221399809771, Lr: 8.005276044387356e-06\n"
     ]
    },
    {
     "metadata": {
      "tags": null
     },
     "name": "stderr",
     "output_type": "stream",
     "text": [
      "\r  0%|          | 2/2001 [00:29<7:36:46, 13.71s/it] "
     ]
    },
    {
     "metadata": {
      "tags": null
     },
     "name": "stdout",
     "output_type": "stream",
     "text": [
      "Step [3/2001], Loss:1.0158840650887593, Lr: 8.011870963949577e-06\n"
     ]
    },
    {
     "metadata": {
      "tags": null
     },
     "name": "stderr",
     "output_type": "stream",
     "text": [
      "\r  0%|          | 3/2001 [00:37<6:12:55, 11.20s/it]"
     ]
    },
    {
     "metadata": {
      "tags": null
     },
     "name": "stdout",
     "output_type": "stream",
     "text": [
      "Step [4/2001], Loss:1.0420441495800785, Lr: 8.021103597619344e-06\n"
     ]
    },
    {
     "metadata": {
      "tags": null
     },
     "name": "stderr",
     "output_type": "stream",
     "text": [
      "\r  0%|          | 4/2001 [00:45<5:30:55,  9.94s/it]"
     ]
    },
    {
     "metadata": {
      "tags": null
     },
     "name": "stdout",
     "output_type": "stream",
     "text": [
      "Step [5/2001], Loss:1.0517396345750933, Lr: 8.03297369168771e-06\n"
     ]
    },
    {
     "metadata": {
      "tags": null
     },
     "name": "stderr",
     "output_type": "stream",
     "text": [
      "\r  0%|          | 5/2001 [00:53<5:09:17,  9.30s/it]"
     ]
    },
    {
     "metadata": {
      "tags": null
     },
     "name": "stdout",
     "output_type": "stream",
     "text": [
      "Step [6/2001], Loss:1.0148717399913683, Lr: 8.047480919969388e-06\n"
     ]
    },
    {
     "metadata": {
      "tags": null
     },
     "name": "stderr",
     "output_type": "stream",
     "text": [
      "\r  0%|          | 6/2001 [01:01<4:53:23,  8.82s/it]"
     ]
    },
    {
     "metadata": {
      "tags": null
     },
     "name": "stdout",
     "output_type": "stream",
     "text": [
      "Step [7/2001], Loss:1.0296322623606553, Lr: 8.064624883811778e-06\n"
     ]
    },
    {
     "metadata": {
      "tags": null
     },
     "name": "stderr",
     "output_type": "stream",
     "text": [
      "\r  0%|          | 7/2001 [01:09<4:42:11,  8.49s/it]"
     ]
    },
    {
     "metadata": {
      "tags": null
     },
     "name": "stdout",
     "output_type": "stream",
     "text": [
      "Step [8/2001], Loss:1.0392365670913464, Lr: 8.08440511210578e-06\n"
     ]
    },
    {
     "metadata": {
      "tags": null
     },
     "name": "stderr",
     "output_type": "stream",
     "text": [
      "\r  0%|          | 8/2001 [01:17<4:35:00,  8.28s/it]"
     ]
    },
    {
     "metadata": {
      "tags": null
     },
     "name": "stdout",
     "output_type": "stream",
     "text": [
      "Step [9/2001], Loss:1.038185706582293, Lr: 8.106821061298967e-06\n"
     ]
    },
    {
     "metadata": {
      "tags": null
     },
     "name": "stderr",
     "output_type": "stream",
     "text": [
      "\r  0%|          | 9/2001 [01:25<4:33:38,  8.24s/it]"
     ]
    },
    {
     "metadata": {
      "tags": null
     },
     "name": "stdout",
     "output_type": "stream",
     "text": [
      "Step [10/2001], Loss:1.040062086482835, Lr: 8.131872115410251e-06\n"
     ]
    },
    {
     "metadata": {
      "tags": null
     },
     "name": "stderr",
     "output_type": "stream",
     "text": [
      "\r  0%|          | 10/2001 [01:33<4:33:51,  8.25s/it]"
     ]
    },
    {
     "metadata": {
      "tags": null
     },
     "name": "stdout",
     "output_type": "stream",
     "text": [
      "Validation loss: 1.033415089818415\n",
      "Step [11/2001], Loss:1.0343602441767046, Lr: 8.159557586047092e-06\n"
     ]
    },
    {
     "metadata": {
      "tags": null
     },
     "name": "stderr",
     "output_type": "stream",
     "text": [
      "\r  1%|          | 11/2001 [01:44<4:53:53,  8.86s/it]"
     ]
    },
    {
     "metadata": {
      "tags": null
     },
     "name": "stdout",
     "output_type": "stream",
     "text": [
      "Step [12/2001], Loss:1.0183906654559085, Lr: 8.189876712424147e-06\n"
     ]
    },
    {
     "metadata": {
      "tags": null
     },
     "name": "stderr",
     "output_type": "stream",
     "text": [
      "\r  1%|          | 12/2001 [01:52<4:46:56,  8.66s/it]"
     ]
    },
    {
     "metadata": {
      "tags": null
     },
     "name": "stdout",
     "output_type": "stream",
     "text": [
      "Step [13/2001], Loss:1.006217857706019, Lr: 8.22282866138436e-06\n"
     ]
    },
    {
     "metadata": {
      "tags": null
     },
     "name": "stderr",
     "output_type": "stream",
     "text": [
      "\r  1%|          | 13/2001 [02:00<4:40:08,  8.45s/it]"
     ]
    },
    {
     "metadata": {
      "tags": null
     },
     "name": "stdout",
     "output_type": "stream",
     "text": [
      "Step [14/2001], Loss:1.022588545907201, Lr: 8.258412527421837e-06\n"
     ]
    },
    {
     "metadata": {
      "tags": null
     },
     "name": "stderr",
     "output_type": "stream",
     "text": [
      "\r  1%|          | 14/2001 [02:08<4:34:59,  8.30s/it]"
     ]
    },
    {
     "metadata": {
      "tags": null
     },
     "name": "stdout",
     "output_type": "stream",
     "text": [
      "Step [15/2001], Loss:1.0163514308919201, Lr: 8.296627332706619e-06\n"
     ]
    },
    {
     "metadata": {
      "tags": null
     },
     "name": "stderr",
     "output_type": "stream",
     "text": [
      "\r  1%|          | 15/2001 [02:16<4:34:43,  8.30s/it]"
     ]
    },
    {
     "metadata": {
      "tags": null
     },
     "name": "stdout",
     "output_type": "stream",
     "text": [
      "Step [16/2001], Loss:1.0354209914803585, Lr: 8.33747202711165e-06\n"
     ]
    },
    {
     "metadata": {
      "tags": null
     },
     "name": "stderr",
     "output_type": "stream",
     "text": [
      "\r  1%|          | 16/2001 [02:24<4:31:24,  8.20s/it]"
     ]
    },
    {
     "metadata": {
      "tags": null
     },
     "name": "stdout",
     "output_type": "stream",
     "text": [
      "Step [17/2001], Loss:1.0256869190512627, Lr: 8.380945488241598e-06\n"
     ]
    },
    {
     "metadata": {
      "tags": null
     },
     "name": "stderr",
     "output_type": "stream",
     "text": [
      "\r  1%|          | 17/2001 [02:32<4:28:01,  8.11s/it]"
     ]
    },
    {
     "metadata": {
      "tags": null
     },
     "name": "stdout",
     "output_type": "stream",
     "text": [
      "Step [18/2001], Loss:1.020298702859313, Lr: 8.427046521463798e-06\n"
     ]
    },
    {
     "metadata": {
      "tags": null
     },
     "name": "stderr",
     "output_type": "stream",
     "text": [
      "\r  1%|          | 18/2001 [02:40<4:25:45,  8.04s/it]"
     ]
    },
    {
     "metadata": {
      "tags": null
     },
     "name": "stdout",
     "output_type": "stream",
     "text": [
      "Step [19/2001], Loss:1.011268117810935, Lr: 8.475773859940785e-06\n"
     ]
    },
    {
     "metadata": {
      "tags": null
     },
     "name": "stderr",
     "output_type": "stream",
     "text": [
      "\r  1%|          | 19/2001 [02:48<4:24:48,  8.02s/it]"
     ]
    },
    {
     "metadata": {
      "tags": null
     },
     "name": "stdout",
     "output_type": "stream",
     "text": [
      "Step [20/2001], Loss:1.0114879020960337, Lr: 8.527126164665556e-06\n"
     ]
    },
    {
     "metadata": {
      "tags": null
     },
     "name": "stderr",
     "output_type": "stream",
     "text": [
      "\r  1%|          | 20/2001 [02:56<4:23:09,  7.97s/it]"
     ]
    },
    {
     "metadata": {
      "tags": null
     },
     "name": "stdout",
     "output_type": "stream",
     "text": [
      "Validation loss: 1.0138895090705355\n",
      "Step [21/2001], Loss:1.026749977522579, Lr: 8.581102024497918e-06\n"
     ]
    },
    {
     "metadata": {
      "tags": null
     },
     "name": "stderr",
     "output_type": "stream",
     "text": [
      "  1%|          | 25/2001 [03:31<3:46:15,  6.87s/it]"
     ]
    },
    {
     "metadata": {
      "tags": null
     },
     "name": "stdout",
     "output_type": "stream",
     "text": [
      "Step [26/2001], Loss:1.0082656746505851, Lr: 8.89028021611388e-06\n"
     ]
    },
    {
     "metadata": {
      "tags": null
     },
     "name": "stderr",
     "output_type": "stream",
     "text": [
      "  1%|▏         | 30/2001 [04:04<3:33:16,  6.49s/it]"
     ]
    },
    {
     "metadata": {
      "tags": null
     },
     "name": "stdout",
     "output_type": "stream",
     "text": [
      "Validation loss: 0.9942041304204224\n",
      "Step [31/2001], Loss:0.9859780577231063, Lr: 9.264794211410137e-06\n"
     ]
    },
    {
     "metadata": {
      "tags": null
     },
     "name": "stderr",
     "output_type": "stream",
     "text": [
      "  2%|▏         | 35/2001 [04:40<3:37:05,  6.63s/it]"
     ]
    },
    {
     "metadata": {
      "tags": null
     },
     "name": "stdout",
     "output_type": "stream",
     "text": [
      "Step [36/2001], Loss:0.9887177915925566, Lr: 9.704386737282282e-06\n"
     ]
    },
    {
     "metadata": {
      "tags": null
     },
     "name": "stderr",
     "output_type": "stream",
     "text": [
      "  2%|▏         | 40/2001 [05:12<3:30:33,  6.44s/it]"
     ]
    },
    {
     "metadata": {
      "tags": null
     },
     "name": "stdout",
     "output_type": "stream",
     "text": [
      "Validation loss: 0.9713002246664209\n",
      "Step [41/2001], Loss:0.9607716028011276, Lr: 1.020875581480497e-05\n"
     ]
    },
    {
     "metadata": {
      "tags": null
     },
     "name": "stderr",
     "output_type": "stream",
     "text": [
      "  2%|▏         | 45/2001 [05:48<3:35:50,  6.62s/it]"
     ]
    },
    {
     "metadata": {
      "tags": null
     },
     "name": "stdout",
     "output_type": "stream",
     "text": [
      "Step [46/2001], Loss:0.9518068093735063, Lr: 1.0777554966676952e-05\n"
     ]
    },
    {
     "metadata": {
      "tags": null
     },
     "name": "stderr",
     "output_type": "stream",
     "text": [
      "  2%|▏         | 50/2001 [06:21<3:30:04,  6.46s/it]"
     ]
    },
    {
     "metadata": {
      "tags": null
     },
     "name": "stdout",
     "output_type": "stream",
     "text": [
      "Validation loss: 0.9423737647043824\n",
      "Step [51/2001], Loss:0.9342397570546945, Lr: 1.1410393455234431e-05\n"
     ]
    },
    {
     "metadata": {
      "tags": null
     },
     "name": "stderr",
     "output_type": "stream",
     "text": [
      "  3%|▎         | 55/2001 [06:57<3:34:31,  6.61s/it]"
     ]
    },
    {
     "metadata": {
      "tags": null
     },
     "name": "stdout",
     "output_type": "stream",
     "text": [
      "Step [56/2001], Loss:0.9350798584119568, Lr: 1.2106836550868788e-05\n"
     ]
    },
    {
     "metadata": {
      "tags": null
     },
     "name": "stderr",
     "output_type": "stream",
     "text": [
      "  3%|▎         | 60/2001 [07:30<3:28:56,  6.46s/it]"
     ]
    },
    {
     "metadata": {
      "tags": null
     },
     "name": "stdout",
     "output_type": "stream",
     "text": [
      "Validation loss: 0.9056375074690952\n",
      "Step [61/2001], Loss:0.8925580483886834, Lr: 1.2866405830665157e-05\n"
     ]
    },
    {
     "metadata": {
      "tags": null
     },
     "name": "stderr",
     "output_type": "stream",
     "text": [
      "  3%|▎         | 65/2001 [08:05<3:33:08,  6.61s/it]"
     ]
    },
    {
     "metadata": {
      "tags": null
     },
     "name": "stdout",
     "output_type": "stream",
     "text": [
      "Step [66/2001], Loss:0.8707957292019489, Lr: 1.368857950705593e-05\n"
     ]
    },
    {
     "metadata": {
      "tags": null
     },
     "name": "stderr",
     "output_type": "stream",
     "text": [
      "  3%|▎         | 70/2001 [08:38<3:28:11,  6.47s/it]"
     ]
    },
    {
     "metadata": {
      "tags": null
     },
     "name": "stdout",
     "output_type": "stream",
     "text": [
      "Validation loss: 0.858319709041698\n",
      "Step [71/2001], Loss:0.8566429054243083, Lr: 1.457279278626358e-05\n"
     ]
    },
    {
     "metadata": {
      "tags": null
     },
     "name": "stderr",
     "output_type": "stream",
     "text": [
      "  4%|▎         | 75/2001 [09:14<3:32:04,  6.61s/it]"
     ]
    },
    {
     "metadata": {
      "tags": null
     },
     "name": "stdout",
     "output_type": "stream",
     "text": [
      "Step [76/2001], Loss:0.8394366335292344, Lr: 1.5518438256287038e-05\n"
     ]
    },
    {
     "metadata": {
      "tags": null
     },
     "name": "stderr",
     "output_type": "stream",
     "text": [
      "  4%|▍         | 80/2001 [09:47<3:26:57,  6.46s/it]"
     ]
    },
    {
     "metadata": {
      "tags": null
     },
     "name": "stdout",
     "output_type": "stream",
     "text": [
      "Validation loss: 0.7951489979301773\n",
      "Step [81/2001], Loss:0.7971737377756644, Lr: 1.6524866304164248e-05\n"
     ]
    },
    {
     "metadata": {
      "tags": null
     },
     "name": "stderr",
     "output_type": "stream",
     "text": [
      "  4%|▍         | 85/2001 [10:22<3:31:43,  6.63s/it]"
     ]
    },
    {
     "metadata": {
      "tags": null
     },
     "name": "stdout",
     "output_type": "stream",
     "text": [
      "Step [86/2001], Loss:0.7458069663616594, Lr: 1.759138556222531e-05\n"
     ]
    },
    {
     "metadata": {
      "tags": null
     },
     "name": "stderr",
     "output_type": "stream",
     "text": [
      "  4%|▍         | 90/2001 [10:55<3:26:04,  6.47s/it]"
     ]
    },
    {
     "metadata": {
      "tags": null
     },
     "name": "stdout",
     "output_type": "stream",
     "text": [
      "Validation loss: 0.6912266747133575\n",
      "Step [91/2001], Loss:0.6944969752240908, Lr: 1.8717263383028756e-05\n"
     ]
    },
    {
     "metadata": {
      "tags": null
     },
     "name": "stderr",
     "output_type": "stream",
     "text": [
      "  5%|▍         | 95/2001 [11:31<3:30:44,  6.63s/it]"
     ]
    },
    {
     "metadata": {
      "tags": null
     },
     "name": "stdout",
     "output_type": "stream",
     "text": [
      "Step [96/2001], Loss:0.615428795885309, Lr: 1.9901726342654843e-05\n"
     ]
    },
    {
     "metadata": {
      "tags": null
     },
     "name": "stderr",
     "output_type": "stream",
     "text": [
      "  5%|▍         | 100/2001 [12:04<3:25:31,  6.49s/it]"
     ]
    },
    {
     "metadata": {
      "tags": null
     },
     "name": "stdout",
     "output_type": "stream",
     "text": [
      "Validation loss: 0.37396164396275394\n",
      "Step [101/2001], Loss:0.4408135142020805, Lr: 2.1143960772011073e-05\n"
     ]
    },
    {
     "metadata": {
      "tags": null
     },
     "name": "stderr",
     "output_type": "stream",
     "text": [
      "  5%|▌         | 105/2001 [12:40<3:28:54,  6.61s/it]"
     ]
    },
    {
     "metadata": {
      "tags": null
     },
     "name": "stdout",
     "output_type": "stream",
     "text": [
      "Step [106/2001], Loss:0.011769119137405313, Lr: 2.2443113315783218e-05\n"
     ]
    },
    {
     "metadata": {
      "tags": null
     },
     "name": "stderr",
     "output_type": "stream",
     "text": [
      "  5%|▌         | 110/2001 [13:13<3:24:15,  6.48s/it]"
     ]
    },
    {
     "metadata": {
      "tags": null
     },
     "name": "stdout",
     "output_type": "stream",
     "text": [
      "Validation loss: 0.0038857748767849036\n",
      "Step [111/2001], Loss:0.020443635306386182, Lr: 2.3798291518649828e-05\n"
     ]
    },
    {
     "metadata": {
      "tags": null
     },
     "name": "stderr",
     "output_type": "stream",
     "text": [
      "  6%|▌         | 115/2001 [13:49<3:27:58,  6.62s/it]"
     ]
    },
    {
     "metadata": {
      "tags": null
     },
     "name": "stdout",
     "output_type": "stream",
     "text": [
      "Step [116/2001], Loss:0.0713688891518676, Lr: 2.5208564438355816e-05\n"
     ]
    },
    {
     "metadata": {
      "tags": null
     },
     "name": "stderr",
     "output_type": "stream",
     "text": [
      "  6%|▌         | 120/2001 [14:22<3:22:52,  6.47s/it]"
     ]
    },
    {
     "metadata": {
      "tags": null
     },
     "name": "stdout",
     "output_type": "stream",
     "text": [
      "Validation loss: 0.054883260607322126\n",
      "Step [121/2001], Loss:0.06423975236139802, Lr: 2.6672963285225124e-05\n"
     ]
    },
    {
     "metadata": {
      "tags": null
     },
     "name": "stderr",
     "output_type": "stream",
     "text": [
      "  6%|▌         | 125/2001 [14:57<3:27:23,  6.63s/it]"
     ]
    },
    {
     "metadata": {
      "tags": null
     },
     "name": "stdout",
     "output_type": "stream",
     "text": [
      "Step [126/2001], Loss:0.008315567920729645, Lr: 2.8190482087672665e-05\n"
     ]
    },
    {
     "metadata": {
      "tags": null
     },
     "name": "stderr",
     "output_type": "stream",
     "text": [
      "  6%|▋         | 130/2001 [15:31<3:22:00,  6.48s/it]"
     ]
    },
    {
     "metadata": {
      "tags": null
     },
     "name": "stdout",
     "output_type": "stream",
     "text": [
      "Validation loss: 0.03287615733375379\n",
      "Step [131/2001], Loss:0.03249867362679806, Lr: 2.976007838325842e-05\n"
     ]
    },
    {
     "metadata": {
      "tags": null
     },
     "name": "stderr",
     "output_type": "stream",
     "text": [
      "  7%|▋         | 135/2001 [16:06<3:25:32,  6.61s/it]"
     ]
    },
    {
     "metadata": {
      "tags": null
     },
     "name": "stdout",
     "output_type": "stream",
     "text": [
      "Step [136/2001], Loss:0.005915510115004487, Lr: 3.138067393480891e-05\n"
     ]
    },
    {
     "metadata": {
      "tags": null
     },
     "name": "stderr",
     "output_type": "stream",
     "text": [
      "  7%|▋         | 140/2001 [16:39<3:20:56,  6.48s/it]"
     ]
    },
    {
     "metadata": {
      "tags": null
     },
     "name": "stdout",
     "output_type": "stream",
     "text": [
      "Validation loss: 0.020639507514864344\n",
      "Step [141/2001], Loss:0.019717330774604157, Lr: 3.3051155471114396e-05\n"
     ]
    },
    {
     "metadata": {
      "tags": null
     },
     "name": "stderr",
     "output_type": "stream",
     "text": [
      "  7%|▋         | 145/2001 [17:14<3:23:50,  6.59s/it]"
     ]
    },
    {
     "metadata": {
      "tags": null
     },
     "name": "stdout",
     "output_type": "stream",
     "text": [
      "Step [146/2001], Loss:0.009765095167477351, Lr: 3.477037545169268e-05\n"
     ]
    },
    {
     "metadata": {
      "tags": null
     },
     "name": "stderr",
     "output_type": "stream",
     "text": [
      "  7%|▋         | 150/2001 [17:48<3:19:24,  6.46s/it]"
     ]
    },
    {
     "metadata": {
      "tags": null
     },
     "name": "stdout",
     "output_type": "stream",
     "text": [
      "Validation loss: 0.007774599220883954\n",
      "Step [151/2001], Loss:0.002825518628552747, Lr: 3.653715285509412e-05\n"
     ]
    },
    {
     "metadata": {
      "tags": null
     },
     "name": "stderr",
     "output_type": "stream",
     "text": [
      "  8%|▊         | 155/2001 [18:23<3:23:46,  6.62s/it]"
     ]
    },
    {
     "metadata": {
      "tags": null
     },
     "name": "stdout",
     "output_type": "stream",
     "text": [
      "Step [156/2001], Loss:0.010859384287931565, Lr: 3.8350273990206564e-05\n"
     ]
    },
    {
     "metadata": {
      "tags": null
     },
     "name": "stderr",
     "output_type": "stream",
     "text": [
      "  8%|▊         | 160/2001 [18:56<3:18:16,  6.46s/it]"
     ]
    },
    {
     "metadata": {
      "tags": null
     },
     "name": "stdout",
     "output_type": "stream",
     "text": [
      "Validation loss: 0.005193604598952312\n",
      "Step [161/2001], Loss:0.004502477656302528, Lr: 4.0208493330002925e-05\n"
     ]
    },
    {
     "metadata": {
      "tags": null
     },
     "name": "stderr",
     "output_type": "stream",
     "text": [
      "  8%|▊         | 165/2001 [19:32<3:22:35,  6.62s/it]"
     ]
    },
    {
     "metadata": {
      "tags": null
     },
     "name": "stdout",
     "output_type": "stream",
     "text": [
      "Step [166/2001], Loss:0.008421660162490565, Lr: 4.211053436715823e-05\n"
     ]
    },
    {
     "metadata": {
      "tags": null
     },
     "name": "stderr",
     "output_type": "stream",
     "text": [
      "  8%|▊         | 170/2001 [20:05<3:17:54,  6.49s/it]"
     ]
    },
    {
     "metadata": {
      "tags": null
     },
     "name": "stdout",
     "output_type": "stream",
     "text": [
      "Validation loss: 0.0030067747113104986\n",
      "Step [171/2001], Loss:0.0010623669909880704, Lr: 4.405509049094881e-05\n"
     ]
    },
    {
     "metadata": {
      "tags": null
     },
     "name": "stderr",
     "output_type": "stream",
     "text": [
      "  9%|▊         | 175/2001 [20:40<3:21:37,  6.63s/it]"
     ]
    },
    {
     "metadata": {
      "tags": null
     },
     "name": "stdout",
     "output_type": "stream",
     "text": [
      "Step [176/2001], Loss:0.007073906618549567, Lr: 4.604082588483102e-05\n"
     ]
    },
    {
     "metadata": {
      "tags": null
     },
     "name": "stderr",
     "output_type": "stream",
     "text": [
      "  9%|▉         | 180/2001 [21:14<3:16:48,  6.48s/it]"
     ]
    },
    {
     "metadata": {
      "tags": null
     },
     "name": "stdout",
     "output_type": "stream",
     "text": [
      "Validation loss: 0.0031563368348066327\n",
      "Step [181/2001], Loss:0.0055388376425957436, Lr: 4.806637644408292e-05\n"
     ]
    },
    {
     "metadata": {
      "tags": null
     },
     "name": "stderr",
     "output_type": "stream",
     "text": [
      "  9%|▉         | 185/2001 [21:49<3:20:20,  6.62s/it]"
     ]
    },
    {
     "metadata": {
      "tags": null
     },
     "name": "stdout",
     "output_type": "stream",
     "text": [
      "Step [186/2001], Loss:0.006037538984238578, Lr: 5.013035071287878e-05\n"
     ]
    },
    {
     "metadata": {
      "tags": null
     },
     "name": "stderr",
     "output_type": "stream",
     "text": [
      "  9%|▉         | 190/2001 [22:22<3:15:08,  6.47s/it]"
     ]
    },
    {
     "metadata": {
      "tags": null
     },
     "name": "stdout",
     "output_type": "stream",
     "text": [
      "Validation loss: 0.002891484687024121\n",
      "Step [191/2001], Loss:0.0012633449157533358, Lr: 5.2231330840152036e-05\n"
     ]
    },
    {
     "metadata": {
      "tags": null
     },
     "name": "stderr",
     "output_type": "stream",
     "text": [
      " 10%|▉         | 195/2001 [22:58<3:18:52,  6.61s/it]"
     ]
    },
    {
     "metadata": {
      "tags": null
     },
     "name": "stdout",
     "output_type": "stream",
     "text": [
      "Step [196/2001], Loss:0.005113631443684845, Lr: 5.436787355359113e-05\n"
     ]
    },
    {
     "metadata": {
      "tags": null
     },
     "name": "stderr",
     "output_type": "stream",
     "text": [
      " 10%|▉         | 200/2001 [23:31<3:13:56,  6.46s/it]"
     ]
    },
    {
     "metadata": {
      "tags": null
     },
     "name": "stdout",
     "output_type": "stream",
     "text": [
      "Validation loss: 0.0032373728757829497\n",
      "Step [201/2001], Loss:0.002202364607017045, Lr: 5.653851115109787e-05\n"
     ]
    },
    {
     "metadata": {
      "tags": null
     },
     "name": "stderr",
     "output_type": "stream",
     "text": [
      " 11%|█         | 211/2001 [24:46<3:30:02,  7.04s/it]"
     ]
    },
    {
     "metadata": {
      "tags": null
     },
     "name": "stdout",
     "output_type": "stream",
     "text": [
      "Validation loss: 0.0029212650359617333\n"
     ]
    },
    {
     "metadata": {
      "tags": null
     },
     "name": "stderr",
     "output_type": "stream",
     "text": [
      " 11%|█         | 221/2001 [25:51<3:28:30,  7.03s/it]"
     ]
    },
    {
     "metadata": {
      "tags": null
     },
     "name": "stdout",
     "output_type": "stream",
     "text": [
      "Validation loss: 0.0028836934951033295\n"
     ]
    },
    {
     "metadata": {
      "tags": null
     },
     "name": "stderr",
     "output_type": "stream",
     "text": [
      " 12%|█▏        | 231/2001 [26:57<3:27:40,  7.04s/it]"
     ]
    },
    {
     "metadata": {
      "tags": null
     },
     "name": "stdout",
     "output_type": "stream",
     "text": [
      "Validation loss: 0.002919695961235791\n"
     ]
    },
    {
     "metadata": {
      "tags": null
     },
     "name": "stderr",
     "output_type": "stream",
     "text": [
      " 12%|█▏        | 241/2001 [28:02<3:26:13,  7.03s/it]"
     ]
    },
    {
     "metadata": {
      "tags": null
     },
     "name": "stdout",
     "output_type": "stream",
     "text": [
      "Validation loss: 0.0027835094351074882\n"
     ]
    },
    {
     "metadata": {
      "tags": null
     },
     "name": "stderr",
     "output_type": "stream",
     "text": [
      " 12%|█▏        | 250/2001 [28:59<3:04:51,  6.33s/it]"
     ]
    },
    {
     "metadata": {
      "tags": null
     },
     "name": "stdout",
     "output_type": "stream",
     "text": [
      "Validation loss: 0.00271620541359645\n",
      "Step [251/2001], Loss:0.0011391414722030364, Lr: 7.978180835991759e-05\n"
     ]
    },
    {
     "metadata": {
      "tags": null
     },
     "name": "stderr",
     "output_type": "stream",
     "text": [
      " 13%|█▎        | 261/2001 [30:15<3:24:07,  7.04s/it]"
     ]
    },
    {
     "metadata": {
      "tags": null
     },
     "name": "stdout",
     "output_type": "stream",
     "text": [
      "Validation loss: 0.0026600790818027665\n"
     ]
    },
    {
     "metadata": {
      "tags": null
     },
     "name": "stderr",
     "output_type": "stream",
     "text": [
      " 14%|█▎        | 271/2001 [31:20<3:22:39,  7.03s/it]"
     ]
    },
    {
     "metadata": {
      "tags": null
     },
     "name": "stdout",
     "output_type": "stream",
     "text": [
      "Validation loss: 0.002755556518916485\n"
     ]
    },
    {
     "metadata": {
      "tags": null
     },
     "name": "stderr",
     "output_type": "stream",
     "text": [
      " 14%|█▍        | 281/2001 [32:26<3:21:42,  7.04s/it]"
     ]
    },
    {
     "metadata": {
      "tags": null
     },
     "name": "stdout",
     "output_type": "stream",
     "text": [
      "Validation loss: 0.002636957311837057\n"
     ]
    },
    {
     "metadata": {
      "tags": null
     },
     "name": "stderr",
     "output_type": "stream",
     "text": [
      " 15%|█▍        | 291/2001 [33:31<3:20:37,  7.04s/it]"
     ]
    },
    {
     "metadata": {
      "tags": null
     },
     "name": "stdout",
     "output_type": "stream",
     "text": [
      "Validation loss: 0.002378101823419479\n"
     ]
    },
    {
     "metadata": {
      "tags": null
     },
     "name": "stderr",
     "output_type": "stream",
     "text": [
      " 15%|█▍        | 300/2001 [34:28<2:59:30,  6.33s/it]"
     ]
    },
    {
     "metadata": {
      "tags": null
     },
     "name": "stdout",
     "output_type": "stream",
     "text": [
      "Validation loss: 0.002335340170914272\n",
      "Step [301/2001], Loss:0.005571812951813611, Lr: 0.0001046793709485271\n"
     ]
    },
    {
     "metadata": {
      "tags": null
     },
     "name": "stderr",
     "output_type": "stream",
     "text": [
      " 16%|█▌        | 311/2001 [35:43<3:18:28,  7.05s/it]"
     ]
    },
    {
     "metadata": {
      "tags": null
     },
     "name": "stdout",
     "output_type": "stream",
     "text": [
      "Validation loss: 0.0018201461374153906\n"
     ]
    },
    {
     "metadata": {
      "tags": null
     },
     "name": "stderr",
     "output_type": "stream",
     "text": [
      " 16%|█▌        | 321/2001 [36:49<3:16:45,  7.03s/it]"
     ]
    },
    {
     "metadata": {
      "tags": null
     },
     "name": "stdout",
     "output_type": "stream",
     "text": [
      "Validation loss: 0.0014998636377804436\n"
     ]
    },
    {
     "metadata": {
      "tags": null
     },
     "name": "stderr",
     "output_type": "stream",
     "text": [
      " 17%|█▋        | 331/2001 [37:54<3:15:43,  7.03s/it]"
     ]
    },
    {
     "metadata": {
      "tags": null
     },
     "name": "stdout",
     "output_type": "stream",
     "text": [
      "Validation loss: 0.0014716366883275687\n"
     ]
    },
    {
     "metadata": {
      "tags": null
     },
     "name": "stderr",
     "output_type": "stream",
     "text": [
      " 17%|█▋        | 341/2001 [38:59<3:14:35,  7.03s/it]"
     ]
    },
    {
     "metadata": {
      "tags": null
     },
     "name": "stdout",
     "output_type": "stream",
     "text": [
      "Validation loss: 0.0010750884016187232\n"
     ]
    },
    {
     "metadata": {
      "tags": null
     },
     "name": "stderr",
     "output_type": "stream",
     "text": [
      " 17%|█▋        | 350/2001 [39:56<2:54:03,  6.33s/it]"
     ]
    },
    {
     "metadata": {
      "tags": null
     },
     "name": "stdout",
     "output_type": "stream",
     "text": [
      "Validation loss: 0.0008007395473448452\n",
      "Step [351/2001], Loss:0.00058424882833766, Lr: 0.0001295305279319252\n"
     ]
    },
    {
     "output_type": "stream",
     "name": "stderr",
     "text": [
      " 18%|█▊        | 361/2001 [41:11<3:12:34,  7.05s/it]"
     ]
    },
    {
     "output_type": "stream",
     "name": "stdout",
     "text": [
      "Validation loss: 0.0007715087827941056\n"
     ]
    },
    {
     "output_type": "stream",
     "name": "stderr",
     "text": [
      " 19%|█▊        | 371/2001 [42:17<3:11:02,  7.03s/it]"
     ]
    },
    {
     "output_type": "stream",
     "name": "stdout",
     "text": [
      "Validation loss: 0.0007488993186866534\n"
     ]
    },
    {
     "output_type": "stream",
     "name": "stderr",
     "text": [
      " 19%|█▉        | 381/2001 [43:22<3:09:45,  7.03s/it]"
     ]
    },
    {
     "output_type": "stream",
     "name": "stdout",
     "text": [
      "Validation loss: 0.0007423494239252376\n"
     ]
    },
    {
     "output_type": "stream",
     "name": "stderr",
     "text": [
      " 20%|█▉        | 391/2001 [44:28<3:08:42,  7.03s/it]"
     ]
    },
    {
     "output_type": "stream",
     "name": "stdout",
     "text": [
      "Validation loss: 0.0007547352421079307\n"
     ]
    },
    {
     "output_type": "stream",
     "name": "stderr",
     "text": [
      " 20%|█▉        | 400/2001 [45:24<2:48:51,  6.33s/it]"
     ]
    },
    {
     "output_type": "stream",
     "name": "stdout",
     "text": [
      "Validation loss: 0.0007839784566425379\n",
      "Step [401/2001], Loss:0.0007726860337280021, Lr: 0.0001526377781400693\n"
     ]
    },
    {
     "output_type": "stream",
     "name": "stderr",
     "text": [
      " 21%|██        | 411/2001 [46:40<3:06:40,  7.04s/it]"
     ]
    },
    {
     "output_type": "stream",
     "name": "stdout",
     "text": [
      "Validation loss: 0.000793959360862912\n"
     ]
    },
    {
     "output_type": "stream",
     "name": "stderr",
     "text": [
      " 21%|██        | 421/2001 [47:45<3:04:59,  7.03s/it]"
     ]
    },
    {
     "output_type": "stream",
     "name": "stdout",
     "text": [
      "Validation loss: 0.0007239297631413404\n"
     ]
    },
    {
     "output_type": "stream",
     "name": "stderr",
     "text": [
      " 22%|██▏       | 431/2001 [48:50<3:03:48,  7.02s/it]"
     ]
    },
    {
     "output_type": "stream",
     "name": "stdout",
     "text": [
      "Validation loss: 0.0007493832297014408\n"
     ]
    },
    {
     "output_type": "stream",
     "name": "stderr",
     "text": [
      " 22%|██▏       | 441/2001 [49:56<3:02:34,  7.02s/it]"
     ]
    },
    {
     "output_type": "stream",
     "name": "stdout",
     "text": [
      "Validation loss: 0.000714012838462833\n"
     ]
    },
    {
     "output_type": "stream",
     "name": "stderr",
     "text": [
      " 22%|██▏       | 450/2001 [50:52<2:43:32,  6.33s/it]"
     ]
    },
    {
     "output_type": "stream",
     "name": "stdout",
     "text": [
      "Validation loss: 0.0007021489934302304\n",
      "Step [451/2001], Loss:0.0007529589303416935, Lr: 0.00017242274096512707\n"
     ]
    },
    {
     "output_type": "stream",
     "name": "stderr",
     "text": [
      " 23%|██▎       | 461/2001 [52:08<3:00:35,  7.04s/it]"
     ]
    },
    {
     "output_type": "stream",
     "name": "stdout",
     "text": [
      "Validation loss: 0.0006916797865472611\n"
     ]
    },
    {
     "output_type": "stream",
     "name": "stderr",
     "text": [
      " 24%|██▎       | 471/2001 [53:13<2:59:06,  7.02s/it]"
     ]
    },
    {
     "output_type": "stream",
     "name": "stdout",
     "text": [
      "Validation loss: 0.0007007207966431417\n"
     ]
    },
    {
     "output_type": "stream",
     "name": "stderr",
     "text": [
      " 24%|██▍       | 481/2001 [54:19<2:58:09,  7.03s/it]"
     ]
    },
    {
     "output_type": "stream",
     "name": "stdout",
     "text": [
      "Validation loss: 0.000639089961255123\n"
     ]
    },
    {
     "output_type": "stream",
     "name": "stderr",
     "text": [
      " 25%|██▍       | 491/2001 [55:24<2:56:42,  7.02s/it]"
     ]
    },
    {
     "output_type": "stream",
     "name": "stdout",
     "text": [
      "Validation loss: 0.0006286024928554902\n"
     ]
    },
    {
     "output_type": "stream",
     "name": "stderr",
     "text": [
      " 25%|██▍       | 500/2001 [56:21<2:38:01,  6.32s/it]"
     ]
    },
    {
     "output_type": "stream",
     "name": "stdout",
     "text": [
      "Validation loss: 0.000625706929553766\n",
      "Step [501/2001], Loss:0.0006145468532412664, Lr: 0.0001875339703731283\n"
     ]
    },
    {
     "output_type": "stream",
     "name": "stderr",
     "text": [
      " 26%|██▌       | 511/2001 [57:40<2:55:41,  7.07s/it]"
     ]
    },
    {
     "output_type": "stream",
     "name": "stdout",
     "text": [
      "Validation loss: 0.0006400484494793246\n"
     ]
    },
    {
     "output_type": "stream",
     "name": "stderr",
     "text": [
      " 26%|██▌       | 521/2001 [58:45<2:53:14,  7.02s/it]"
     ]
    },
    {
     "output_type": "stream",
     "name": "stdout",
     "text": [
      "Validation loss: 0.0006686880955182071\n"
     ]
    },
    {
     "output_type": "stream",
     "name": "stderr",
     "text": [
      " 27%|██▋       | 531/2001 [59:50<2:52:20,  7.03s/it]"
     ]
    },
    {
     "output_type": "stream",
     "name": "stdout",
     "text": [
      "Validation loss: 0.0006404549092494108\n"
     ]
    },
    {
     "output_type": "stream",
     "name": "stderr",
     "text": [
      " 27%|██▋       | 541/2001 [1:00:56<2:50:58,  7.03s/it]"
     ]
    },
    {
     "output_type": "stream",
     "name": "stdout",
     "text": [
      "Validation loss: 0.0006141076945834225\n"
     ]
    },
    {
     "output_type": "stream",
     "name": "stderr",
     "text": [
      " 27%|██▋       | 550/2001 [1:01:52<2:33:01,  6.33s/it]"
     ]
    },
    {
     "output_type": "stream",
     "name": "stdout",
     "text": [
      "Validation loss: 0.0006241269862420727\n",
      "Step [551/2001], Loss:0.0005700945155795386, Lr: 0.00019693926775786718\n"
     ]
    },
    {
     "output_type": "stream",
     "name": "stderr",
     "text": [
      " 28%|██▊       | 561/2001 [1:03:08<2:49:12,  7.05s/it]"
     ]
    },
    {
     "output_type": "stream",
     "name": "stdout",
     "text": [
      "Validation loss: 0.0006043205372310768\n"
     ]
    },
    {
     "output_type": "stream",
     "name": "stderr",
     "text": [
      " 29%|██▊       | 571/2001 [1:04:13<2:47:39,  7.03s/it]"
     ]
    },
    {
     "output_type": "stream",
     "name": "stdout",
     "text": [
      "Validation loss: 0.000598968741163645\n"
     ]
    },
    {
     "output_type": "stream",
     "name": "stderr",
     "text": [
      " 29%|██▉       | 581/2001 [1:05:19<2:46:21,  7.03s/it]"
     ]
    },
    {
     "output_type": "stream",
     "name": "stdout",
     "text": [
      "Validation loss: 0.0005985516644028458\n"
     ]
    },
    {
     "output_type": "stream",
     "name": "stderr",
     "text": [
      " 30%|██▉       | 591/2001 [1:06:24<2:45:03,  7.02s/it]"
     ]
    },
    {
     "output_type": "stream",
     "name": "stdout",
     "text": [
      "Validation loss: 0.000590679824010962\n"
     ]
    },
    {
     "output_type": "stream",
     "name": "stderr",
     "text": [
      " 30%|██▉       | 600/2001 [1:07:21<2:27:39,  6.32s/it]"
     ]
    },
    {
     "output_type": "stream",
     "name": "stdout",
     "text": [
      "Validation loss: 0.0005905406784196188\n",
      "Step [601/2001], Loss:0.0004889055297875438, Lr: 0.0001999992730993255\n"
     ]
    },
    {
     "output_type": "stream",
     "name": "stderr",
     "text": [
      " 31%|███       | 611/2001 [1:08:36<2:43:02,  7.04s/it]"
     ]
    },
    {
     "output_type": "stream",
     "name": "stdout",
     "text": [
      "Validation loss: 0.0005867139714632086\n"
     ]
    },
    {
     "output_type": "stream",
     "name": "stderr",
     "text": [
      " 31%|███       | 621/2001 [1:09:41<2:41:23,  7.02s/it]"
     ]
    },
    {
     "output_type": "stream",
     "name": "stdout",
     "text": [
      "Validation loss: 0.0005855708477259105\n"
     ]
    },
    {
     "output_type": "stream",
     "name": "stderr",
     "text": [
      " 32%|███▏      | 631/2001 [1:10:47<2:40:15,  7.02s/it]"
     ]
    },
    {
     "output_type": "stream",
     "name": "stdout",
     "text": [
      "Validation loss: 0.0005878905212386629\n"
     ]
    },
    {
     "output_type": "stream",
     "name": "stderr",
     "text": [
      " 32%|███▏      | 641/2001 [1:11:52<2:39:14,  7.03s/it]"
     ]
    },
    {
     "output_type": "stream",
     "name": "stdout",
     "text": [
      "Validation loss: 0.0005684972193005451\n"
     ]
    },
    {
     "output_type": "stream",
     "name": "stderr",
     "text": [
      " 32%|███▏      | 650/2001 [1:12:49<2:22:29,  6.33s/it]"
     ]
    },
    {
     "output_type": "stream",
     "name": "stdout",
     "text": [
      "Validation loss: 0.0005718351237903999\n",
      "Step [651/2001], Loss:0.00043812483546953066, Lr: 0.0001993284595725804\n"
     ]
    },
    {
     "output_type": "stream",
     "name": "stderr",
     "text": [
      " 33%|███▎      | 661/2001 [1:14:04<2:37:09,  7.04s/it]"
     ]
    },
    {
     "output_type": "stream",
     "name": "stdout",
     "text": [
      "Validation loss: 0.000581415832521041\n"
     ]
    },
    {
     "output_type": "stream",
     "name": "stderr",
     "text": [
      " 34%|███▎      | 671/2001 [1:15:09<2:35:52,  7.03s/it]"
     ]
    },
    {
     "output_type": "stream",
     "name": "stdout",
     "text": [
      "Validation loss: 0.00056659478604275\n"
     ]
    },
    {
     "output_type": "stream",
     "name": "stderr",
     "text": [
      " 34%|███▍      | 681/2001 [1:16:15<2:34:37,  7.03s/it]"
     ]
    },
    {
     "output_type": "stream",
     "name": "stdout",
     "text": [
      "Validation loss: 0.000571159144835006\n"
     ]
    },
    {
     "output_type": "stream",
     "name": "stderr",
     "text": [
      " 35%|███▍      | 691/2001 [1:17:20<2:33:31,  7.03s/it]"
     ]
    },
    {
     "output_type": "stream",
     "name": "stdout",
     "text": [
      "Validation loss: 0.0005546252931249351\n"
     ]
    },
    {
     "output_type": "stream",
     "name": "stderr",
     "text": [
      " 35%|███▍      | 700/2001 [1:18:17<2:17:10,  6.33s/it]"
     ]
    },
    {
     "output_type": "stream",
     "name": "stdout",
     "text": [
      "Validation loss: 0.0005516597241457917\n",
      "Step [701/2001], Loss:0.0004629924536529391, Lr: 0.0001974097849286212\n"
     ]
    },
    {
     "output_type": "stream",
     "name": "stderr",
     "text": [
      " 36%|███▌      | 711/2001 [1:19:32<2:31:25,  7.04s/it]"
     ]
    },
    {
     "output_type": "stream",
     "name": "stdout",
     "text": [
      "Validation loss: 0.0005470283126930811\n"
     ]
    },
    {
     "output_type": "stream",
     "name": "stderr",
     "text": [
      " 36%|███▌      | 721/2001 [1:20:38<2:29:57,  7.03s/it]"
     ]
    },
    {
     "output_type": "stream",
     "name": "stdout",
     "text": [
      "Validation loss: 0.0005493081328068551\n"
     ]
    },
    {
     "output_type": "stream",
     "name": "stderr",
     "text": [
      " 37%|███▋      | 731/2001 [1:21:43<2:28:38,  7.02s/it]"
     ]
    },
    {
     "output_type": "stream",
     "name": "stdout",
     "text": [
      "Validation loss: 0.0005395734783521438\n"
     ]
    },
    {
     "output_type": "stream",
     "name": "stderr",
     "text": [
      " 37%|███▋      | 741/2001 [1:22:48<2:27:23,  7.02s/it]"
     ]
    },
    {
     "output_type": "stream",
     "name": "stdout",
     "text": [
      "Validation loss: 0.0005394016517649393\n"
     ]
    },
    {
     "output_type": "stream",
     "name": "stderr",
     "text": [
      " 37%|███▋      | 750/2001 [1:23:45<2:11:48,  6.32s/it]"
     ]
    },
    {
     "output_type": "stream",
     "name": "stdout",
     "text": [
      "Validation loss: 0.0005318108069398308\n",
      "Step [751/2001], Loss:0.0003613546502543839, Lr: 0.0001942673535292475\n"
     ]
    },
    {
     "output_type": "stream",
     "name": "stderr",
     "text": [
      " 38%|███▊      | 761/2001 [1:25:00<2:25:29,  7.04s/it]"
     ]
    },
    {
     "output_type": "stream",
     "name": "stdout",
     "text": [
      "Validation loss: 0.0005403814590527425\n"
     ]
    },
    {
     "output_type": "stream",
     "name": "stderr",
     "text": [
      " 39%|███▊      | 771/2001 [1:26:06<2:24:15,  7.04s/it]"
     ]
    },
    {
     "output_type": "stream",
     "name": "stdout",
     "text": [
      "Validation loss: 0.0005443969597093609\n"
     ]
    },
    {
     "output_type": "stream",
     "name": "stderr",
     "text": [
      " 39%|███▉      | 781/2001 [1:27:11<2:22:56,  7.03s/it]"
     ]
    },
    {
     "output_type": "stream",
     "name": "stdout",
     "text": [
      "Validation loss: 0.000532318405470143\n"
     ]
    },
    {
     "output_type": "stream",
     "name": "stderr",
     "text": [
      " 40%|███▉      | 791/2001 [1:28:16<2:21:34,  7.02s/it]"
     ]
    },
    {
     "output_type": "stream",
     "name": "stdout",
     "text": [
      "Validation loss: 0.0005382699875478295\n"
     ]
    },
    {
     "output_type": "stream",
     "name": "stderr",
     "text": [
      " 40%|███▉      | 800/2001 [1:29:13<2:06:35,  6.32s/it]"
     ]
    },
    {
     "output_type": "stream",
     "name": "stdout",
     "text": [
      "Validation loss: 0.0005243234339427391\n",
      "Step [801/2001], Loss:0.0006663983625426284, Lr: 0.0001899406438257011\n"
     ]
    },
    {
     "output_type": "stream",
     "name": "stderr",
     "text": [
      " 41%|████      | 811/2001 [1:30:29<2:19:38,  7.04s/it]"
     ]
    },
    {
     "output_type": "stream",
     "name": "stdout",
     "text": [
      "Validation loss: 0.000527116763360624\n"
     ]
    },
    {
     "output_type": "stream",
     "name": "stderr",
     "text": [
      " 41%|████      | 821/2001 [1:31:34<2:18:14,  7.03s/it]"
     ]
    },
    {
     "output_type": "stream",
     "name": "stdout",
     "text": [
      "Validation loss: 0.0005121532790757737\n"
     ]
    },
    {
     "output_type": "stream",
     "name": "stderr",
     "text": [
      " 42%|████▏     | 831/2001 [1:32:39<2:17:05,  7.03s/it]"
     ]
    },
    {
     "output_type": "stream",
     "name": "stdout",
     "text": [
      "Validation loss: 0.0005533037659121858\n"
     ]
    },
    {
     "output_type": "stream",
     "name": "stderr",
     "text": [
      " 42%|████▏     | 841/2001 [1:33:45<2:15:48,  7.02s/it]"
     ]
    },
    {
     "output_type": "stream",
     "name": "stdout",
     "text": [
      "Validation loss: 0.0005379329321413732\n"
     ]
    },
    {
     "output_type": "stream",
     "name": "stderr",
     "text": [
      " 42%|████▏     | 850/2001 [1:34:41<2:01:19,  6.32s/it]"
     ]
    },
    {
     "output_type": "stream",
     "name": "stdout",
     "text": [
      "Validation loss: 0.0005085558916756238\n",
      "Step [851/2001], Loss:0.0005358067973830277, Lr: 0.00018448401238980842\n"
     ]
    },
    {
     "output_type": "stream",
     "name": "stderr",
     "text": [
      " 43%|████▎     | 861/2001 [1:35:57<2:13:45,  7.04s/it]"
     ]
    },
    {
     "output_type": "stream",
     "name": "stdout",
     "text": [
      "Validation loss: 0.0005094237266275881\n"
     ]
    },
    {
     "output_type": "stream",
     "name": "stderr",
     "text": [
      " 44%|████▎     | 871/2001 [1:37:02<2:12:20,  7.03s/it]"
     ]
    },
    {
     "output_type": "stream",
     "name": "stdout",
     "text": [
      "Validation loss: 0.0005094865596533446\n"
     ]
    },
    {
     "output_type": "stream",
     "name": "stderr",
     "text": [
      " 44%|████▍     | 881/2001 [1:38:07<2:11:17,  7.03s/it]"
     ]
    },
    {
     "output_type": "stream",
     "name": "stdout",
     "text": [
      "Validation loss: 0.0005067801388226075\n"
     ]
    },
    {
     "output_type": "stream",
     "name": "stderr",
     "text": [
      " 45%|████▍     | 891/2001 [1:39:13<2:09:58,  7.03s/it]"
     ]
    },
    {
     "output_type": "stream",
     "name": "stdout",
     "text": [
      "Validation loss: 0.0004963653687980086\n"
     ]
    },
    {
     "output_type": "stream",
     "name": "stderr",
     "text": [
      " 45%|████▍     | 900/2001 [1:40:09<1:55:58,  6.32s/it]"
     ]
    },
    {
     "output_type": "stream",
     "name": "stdout",
     "text": [
      "Validation loss: 0.0004906311736600495\n",
      "Step [901/2001], Loss:0.0006557845294039281, Lr: 0.0001779660110308882\n"
     ]
    },
    {
     "output_type": "stream",
     "name": "stderr",
     "text": [
      " 46%|████▌     | 911/2001 [1:41:25<2:08:00,  7.05s/it]"
     ]
    },
    {
     "output_type": "stream",
     "name": "stdout",
     "text": [
      "Validation loss: 0.00048687223487062545\n"
     ]
    },
    {
     "output_type": "stream",
     "name": "stderr",
     "text": [
      " 46%|████▌     | 921/2001 [1:42:30<2:06:30,  7.03s/it]"
     ]
    },
    {
     "output_type": "stream",
     "name": "stdout",
     "text": [
      "Validation loss: 0.0004906513501825189\n"
     ]
    },
    {
     "output_type": "stream",
     "name": "stderr",
     "text": [
      " 47%|████▋     | 931/2001 [1:43:36<2:05:17,  7.03s/it]"
     ]
    },
    {
     "output_type": "stream",
     "name": "stdout",
     "text": [
      "Validation loss: 0.00048480431330424483\n"
     ]
    },
    {
     "output_type": "stream",
     "name": "stderr",
     "text": [
      " 47%|████▋     | 941/2001 [1:44:41<2:04:08,  7.03s/it]"
     ]
    },
    {
     "output_type": "stream",
     "name": "stdout",
     "text": [
      "Validation loss: 0.0004887650152641054\n"
     ]
    },
    {
     "output_type": "stream",
     "name": "stderr",
     "text": [
      " 47%|████▋     | 950/2001 [1:45:37<1:50:49,  6.33s/it]"
     ]
    },
    {
     "output_type": "stream",
     "name": "stdout",
     "text": [
      "Validation loss: 0.0004820733845862281\n",
      "Step [951/2001], Loss:0.000523575629217119, Lr: 0.0001704685255775043\n"
     ]
    },
    {
     "output_type": "stream",
     "name": "stderr",
     "text": [
      " 48%|████▊     | 961/2001 [1:46:53<2:01:57,  7.04s/it]"
     ]
    },
    {
     "output_type": "stream",
     "name": "stdout",
     "text": [
      "Validation loss: 0.00047511192742196676\n"
     ]
    },
    {
     "output_type": "stream",
     "name": "stderr",
     "text": [
      " 49%|████▊     | 971/2001 [1:47:58<2:00:44,  7.03s/it]"
     ]
    },
    {
     "output_type": "stream",
     "name": "stdout",
     "text": [
      "Validation loss: 0.00048476028056762473\n"
     ]
    },
    {
     "output_type": "stream",
     "name": "stderr",
     "text": [
      " 49%|████▉     | 981/2001 [1:49:04<1:59:25,  7.02s/it]"
     ]
    },
    {
     "output_type": "stream",
     "name": "stdout",
     "text": [
      "Validation loss: 0.0005146267653333185\n"
     ]
    },
    {
     "output_type": "stream",
     "name": "stderr",
     "text": [
      " 50%|████▉     | 991/2001 [1:50:09<1:58:19,  7.03s/it]"
     ]
    },
    {
     "output_type": "stream",
     "name": "stdout",
     "text": [
      "Validation loss: 0.0005184608034768809\n"
     ]
    },
    {
     "output_type": "stream",
     "name": "stderr",
     "text": [
      " 50%|████▉     | 1000/2001 [1:51:06<1:45:29,  6.32s/it]"
     ]
    },
    {
     "output_type": "stream",
     "name": "stdout",
     "text": [
      "Validation loss: 0.0004811715219050828\n",
      "Step [1001/2001], Loss:0.00032770866547570456, Lr: 0.00016208574714357172\n"
     ]
    },
    {
     "output_type": "stream",
     "name": "stderr",
     "text": [
      " 51%|█████     | 1011/2001 [1:52:24<1:56:27,  7.06s/it]"
     ]
    },
    {
     "output_type": "stream",
     "name": "stdout",
     "text": [
      "Validation loss: 0.0004929935873260648\n"
     ]
    },
    {
     "output_type": "stream",
     "name": "stderr",
     "text": [
      " 51%|█████     | 1021/2001 [1:53:29<1:54:43,  7.02s/it]"
     ]
    },
    {
     "output_type": "stream",
     "name": "stdout",
     "text": [
      "Validation loss: 0.00045873475508291403\n"
     ]
    },
    {
     "output_type": "stream",
     "name": "stderr",
     "text": [
      " 52%|█████▏    | 1031/2001 [1:54:34<1:53:37,  7.03s/it]"
     ]
    },
    {
     "output_type": "stream",
     "name": "stdout",
     "text": [
      "Validation loss: 0.0004604328885937671\n"
     ]
    },
    {
     "output_type": "stream",
     "name": "stderr",
     "text": [
      " 52%|█████▏    | 1041/2001 [1:55:40<1:52:28,  7.03s/it]"
     ]
    },
    {
     "output_type": "stream",
     "name": "stdout",
     "text": [
      "Validation loss: 0.0004707531815856671\n"
     ]
    },
    {
     "output_type": "stream",
     "name": "stderr",
     "text": [
      " 53%|█████▎    | 1051/2001 [1:56:45<1:51:15,  7.03s/it]"
     ]
    },
    {
     "output_type": "stream",
     "name": "stdout",
     "text": [
      "Validation loss: 0.0004546957426956699\n"
     ]
    },
    {
     "output_type": "stream",
     "name": "stderr",
     "text": [
      " 53%|█████▎    | 1061/2001 [1:57:50<1:50:02,  7.02s/it]"
     ]
    },
    {
     "output_type": "stream",
     "name": "stdout",
     "text": [
      "Validation loss: 0.00045193124137613873\n"
     ]
    },
    {
     "output_type": "stream",
     "name": "stderr",
     "text": [
      " 54%|█████▎    | 1071/2001 [1:58:56<1:48:53,  7.02s/it]"
     ]
    },
    {
     "output_type": "stream",
     "name": "stdout",
     "text": [
      "Validation loss: 0.00045738463030510994\n"
     ]
    },
    {
     "output_type": "stream",
     "name": "stderr",
     "text": [
      " 54%|█████▍    | 1081/2001 [2:00:01<1:47:49,  7.03s/it]"
     ]
    },
    {
     "output_type": "stream",
     "name": "stdout",
     "text": [
      "Validation loss: 0.0004495227412238724\n"
     ]
    },
    {
     "output_type": "stream",
     "name": "stderr",
     "text": [
      " 55%|█████▍    | 1091/2001 [2:01:06<1:46:35,  7.03s/it]"
     ]
    },
    {
     "output_type": "stream",
     "name": "stdout",
     "text": [
      "Validation loss: 0.00044521958663208146\n"
     ]
    },
    {
     "output_type": "stream",
     "name": "stderr",
     "text": [
      " 55%|█████▌    | 1101/2001 [2:02:12<1:45:28,  7.03s/it]"
     ]
    },
    {
     "output_type": "stream",
     "name": "stdout",
     "text": [
      "Validation loss: 0.0004496236365932827\n"
     ]
    },
    {
     "output_type": "stream",
     "name": "stderr",
     "text": [
      " 56%|█████▌    | 1111/2001 [2:03:17<1:44:08,  7.02s/it]"
     ]
    },
    {
     "output_type": "stream",
     "name": "stdout",
     "text": [
      "Validation loss: 0.00044103294869118795\n"
     ]
    },
    {
     "output_type": "stream",
     "name": "stderr",
     "text": [
      " 56%|█████▌    | 1121/2001 [2:04:22<1:43:00,  7.02s/it]"
     ]
    },
    {
     "output_type": "stream",
     "name": "stdout",
     "text": [
      "Validation loss: 0.0004397152705352286\n"
     ]
    },
    {
     "output_type": "stream",
     "name": "stderr",
     "text": [
      " 57%|█████▋    | 1131/2001 [2:05:28<1:41:55,  7.03s/it]"
     ]
    },
    {
     "output_type": "stream",
     "name": "stdout",
     "text": [
      "Validation loss: 0.00043884249967640377\n"
     ]
    },
    {
     "output_type": "stream",
     "name": "stderr",
     "text": [
      " 57%|█████▋    | 1141/2001 [2:06:33<1:40:41,  7.02s/it]"
     ]
    },
    {
     "output_type": "stream",
     "name": "stdout",
     "text": [
      "Validation loss: 0.0004495605808357746\n"
     ]
    },
    {
     "output_type": "stream",
     "name": "stderr",
     "text": [
      " 58%|█████▊    | 1151/2001 [2:07:38<1:39:27,  7.02s/it]"
     ]
    },
    {
     "output_type": "stream",
     "name": "stdout",
     "text": [
      "Validation loss: 0.0004348671183519657\n"
     ]
    },
    {
     "output_type": "stream",
     "name": "stderr",
     "text": [
      " 58%|█████▊    | 1161/2001 [2:08:43<1:38:20,  7.02s/it]"
     ]
    },
    {
     "output_type": "stream",
     "name": "stdout",
     "text": [
      "Validation loss: 0.00043269919765959365\n"
     ]
    },
    {
     "output_type": "stream",
     "name": "stderr",
     "text": [
      " 59%|█████▊    | 1171/2001 [2:09:49<1:37:09,  7.02s/it]"
     ]
    },
    {
     "output_type": "stream",
     "name": "stdout",
     "text": [
      "Validation loss: 0.00043050372191837734\n"
     ]
    },
    {
     "output_type": "stream",
     "name": "stderr",
     "text": [
      " 59%|█████▉    | 1181/2001 [2:10:54<1:35:56,  7.02s/it]"
     ]
    },
    {
     "output_type": "stream",
     "name": "stdout",
     "text": [
      "Validation loss: 0.00043096328485476816\n"
     ]
    },
    {
     "output_type": "stream",
     "name": "stderr",
     "text": [
      " 60%|█████▉    | 1191/2001 [2:11:59<1:34:53,  7.03s/it]"
     ]
    },
    {
     "output_type": "stream",
     "name": "stdout",
     "text": [
      "Validation loss: 0.00042906566740852126\n"
     ]
    },
    {
     "output_type": "stream",
     "name": "stderr",
     "text": [
      " 60%|█████▉    | 1200/2001 [2:12:56<1:24:22,  6.32s/it]"
     ]
    },
    {
     "output_type": "stream",
     "name": "stdout",
     "text": [
      "Validation loss: 0.00043637702012990653\n",
      "Step [1201/2001], Loss:0.0003834621139083551, Lr: 0.00012194616684352745\n"
     ]
    },
    {
     "output_type": "stream",
     "name": "stderr",
     "text": [
      " 61%|██████    | 1211/2001 [2:14:11<1:32:36,  7.03s/it]"
     ]
    },
    {
     "output_type": "stream",
     "name": "stdout",
     "text": [
      "Validation loss: 0.0004276690227069508\n"
     ]
    },
    {
     "output_type": "stream",
     "name": "stderr",
     "text": [
      " 61%|██████    | 1221/2001 [2:15:17<1:31:23,  7.03s/it]"
     ]
    },
    {
     "output_type": "stream",
     "name": "stdout",
     "text": [
      "Validation loss: 0.00042599290427275367\n"
     ]
    },
    {
     "output_type": "stream",
     "name": "stderr",
     "text": [
      " 62%|██████▏   | 1231/2001 [2:16:22<1:30:05,  7.02s/it]"
     ]
    },
    {
     "output_type": "stream",
     "name": "stdout",
     "text": [
      "Validation loss: 0.00042985211211511823\n"
     ]
    },
    {
     "output_type": "stream",
     "name": "stderr",
     "text": [
      " 62%|██████▏   | 1241/2001 [2:17:27<1:29:02,  7.03s/it]"
     ]
    },
    {
     "output_type": "stream",
     "name": "stdout",
     "text": [
      "Validation loss: 0.00042648625167016654\n"
     ]
    },
    {
     "output_type": "stream",
     "name": "stderr",
     "text": [
      " 63%|██████▎   | 1251/2001 [2:18:33<1:27:46,  7.02s/it]"
     ]
    },
    {
     "output_type": "stream",
     "name": "stdout",
     "text": [
      "Validation loss: 0.000424304917773458\n"
     ]
    },
    {
     "output_type": "stream",
     "name": "stderr",
     "text": [
      " 63%|██████▎   | 1261/2001 [2:19:38<1:26:40,  7.03s/it]"
     ]
    },
    {
     "output_type": "stream",
     "name": "stdout",
     "text": [
      "Validation loss: 0.00043342205292286746\n"
     ]
    },
    {
     "output_type": "stream",
     "name": "stderr",
     "text": [
      " 64%|██████▎   | 1271/2001 [2:20:43<1:25:29,  7.03s/it]"
     ]
    },
    {
     "output_type": "stream",
     "name": "stdout",
     "text": [
      "Validation loss: 0.0004224677836864564\n"
     ]
    },
    {
     "output_type": "stream",
     "name": "stderr",
     "text": [
      " 64%|██████▍   | 1281/2001 [2:21:48<1:24:15,  7.02s/it]"
     ]
    },
    {
     "output_type": "stream",
     "name": "stdout",
     "text": [
      "Validation loss: 0.00042734734434491414\n"
     ]
    },
    {
     "output_type": "stream",
     "name": "stderr",
     "text": [
      " 65%|██████▍   | 1291/2001 [2:22:54<1:23:06,  7.02s/it]"
     ]
    },
    {
     "output_type": "stream",
     "name": "stdout",
     "text": [
      "Validation loss: 0.000422596972617238\n"
     ]
    },
    {
     "output_type": "stream",
     "name": "stderr",
     "text": [
      " 65%|██████▌   | 1301/2001 [2:23:59<1:21:58,  7.03s/it]"
     ]
    },
    {
     "output_type": "stream",
     "name": "stdout",
     "text": [
      "Validation loss: 0.00043874245440411914\n"
     ]
    },
    {
     "output_type": "stream",
     "name": "stderr",
     "text": [
      " 66%|██████▌   | 1311/2001 [2:25:04<1:20:45,  7.02s/it]"
     ]
    },
    {
     "output_type": "stream",
     "name": "stdout",
     "text": [
      "Validation loss: 0.0004194861706430585\n"
     ]
    },
    {
     "output_type": "stream",
     "name": "stderr",
     "text": [
      " 66%|██████▌   | 1321/2001 [2:26:10<1:19:38,  7.03s/it]"
     ]
    },
    {
     "output_type": "stream",
     "name": "stdout",
     "text": [
      "Validation loss: 0.00041977651764528033\n"
     ]
    },
    {
     "output_type": "stream",
     "name": "stderr",
     "text": [
      " 67%|██████▋   | 1331/2001 [2:27:15<1:18:26,  7.03s/it]"
     ]
    },
    {
     "output_type": "stream",
     "name": "stdout",
     "text": [
      "Validation loss: 0.0004215248065735693\n"
     ]
    },
    {
     "output_type": "stream",
     "name": "stderr",
     "text": [
      " 67%|██████▋   | 1341/2001 [2:28:20<1:17:17,  7.03s/it]"
     ]
    },
    {
     "output_type": "stream",
     "name": "stdout",
     "text": [
      "Validation loss: 0.00042002560449469224\n"
     ]
    },
    {
     "output_type": "stream",
     "name": "stderr",
     "text": [
      " 68%|██████▊   | 1351/2001 [2:29:26<1:16:08,  7.03s/it]"
     ]
    },
    {
     "output_type": "stream",
     "name": "stdout",
     "text": [
      "Validation loss: 0.00041755661396672693\n"
     ]
    },
    {
     "output_type": "stream",
     "name": "stderr",
     "text": [
      " 68%|██████▊   | 1361/2001 [2:30:31<1:14:53,  7.02s/it]"
     ]
    },
    {
     "output_type": "stream",
     "name": "stdout",
     "text": [
      "Validation loss: 0.0004161026636017834\n"
     ]
    },
    {
     "output_type": "stream",
     "name": "stderr",
     "text": [
      " 69%|██████▊   | 1371/2001 [2:31:36<1:13:43,  7.02s/it]"
     ]
    },
    {
     "output_type": "stream",
     "name": "stdout",
     "text": [
      "Validation loss: 0.0004150147107007819\n"
     ]
    },
    {
     "output_type": "stream",
     "name": "stderr",
     "text": [
      " 69%|██████▉   | 1381/2001 [2:32:42<1:12:38,  7.03s/it]"
     ]
    },
    {
     "output_type": "stream",
     "name": "stdout",
     "text": [
      "Validation loss: 0.00041428932997038026\n"
     ]
    },
    {
     "output_type": "stream",
     "name": "stderr",
     "text": [
      " 70%|██████▉   | 1391/2001 [2:33:47<1:11:24,  7.02s/it]"
     ]
    },
    {
     "output_type": "stream",
     "name": "stdout",
     "text": [
      "Validation loss: 0.0004154354907973913\n"
     ]
    },
    {
     "output_type": "stream",
     "name": "stderr",
     "text": [
      " 70%|██████▉   | 1400/2001 [2:34:43<1:03:22,  6.33s/it]"
     ]
    },
    {
     "output_type": "stream",
     "name": "stdout",
     "text": [
      "Validation loss: 0.0004144846347877351\n",
      "Step [1401/2001], Loss:0.0003667192383318848, Lr: 7.746422856645808e-05\n"
     ]
    },
    {
     "output_type": "stream",
     "name": "stderr",
     "text": [
      " 71%|███████   | 1411/2001 [2:35:59<1:09:10,  7.04s/it]"
     ]
    },
    {
     "output_type": "stream",
     "name": "stdout",
     "text": [
      "Validation loss: 0.0004139601849971607\n"
     ]
    },
    {
     "output_type": "stream",
     "name": "stderr",
     "text": [
      " 71%|███████   | 1421/2001 [2:37:05<1:07:57,  7.03s/it]"
     ]
    },
    {
     "output_type": "stream",
     "name": "stdout",
     "text": [
      "Validation loss: 0.000414553003664146\n"
     ]
    },
    {
     "output_type": "stream",
     "name": "stderr",
     "text": [
      " 72%|███████▏  | 1431/2001 [2:38:10<1:06:44,  7.02s/it]"
     ]
    },
    {
     "output_type": "stream",
     "name": "stdout",
     "text": [
      "Validation loss: 0.00041305767415263014\n"
     ]
    },
    {
     "output_type": "stream",
     "name": "stderr",
     "text": [
      " 72%|███████▏  | 1441/2001 [2:39:15<1:05:37,  7.03s/it]"
     ]
    },
    {
     "output_type": "stream",
     "name": "stdout",
     "text": [
      "Validation loss: 0.0004176066042138548\n"
     ]
    },
    {
     "output_type": "stream",
     "name": "stderr",
     "text": [
      " 73%|███████▎  | 1451/2001 [2:40:20<1:04:22,  7.02s/it]"
     ]
    },
    {
     "output_type": "stream",
     "name": "stdout",
     "text": [
      "Validation loss: 0.0004123117778684342\n"
     ]
    },
    {
     "output_type": "stream",
     "name": "stderr",
     "text": [
      " 73%|███████▎  | 1461/2001 [2:41:26<1:03:14,  7.03s/it]"
     ]
    },
    {
     "output_type": "stream",
     "name": "stdout",
     "text": [
      "Validation loss: 0.00041287441323669674\n"
     ]
    },
    {
     "output_type": "stream",
     "name": "stderr",
     "text": [
      " 74%|███████▎  | 1471/2001 [2:42:31<1:02:04,  7.03s/it]"
     ]
    },
    {
     "output_type": "stream",
     "name": "stdout",
     "text": [
      "Validation loss: 0.00041150673575894424\n"
     ]
    },
    {
     "output_type": "stream",
     "name": "stderr",
     "text": [
      " 74%|███████▍  | 1481/2001 [2:43:37<1:00:56,  7.03s/it]"
     ]
    },
    {
     "output_type": "stream",
     "name": "stdout",
     "text": [
      "Validation loss: 0.0004153947154138385\n"
     ]
    },
    {
     "output_type": "stream",
     "name": "stderr",
     "text": [
      " 75%|███████▍  | 1491/2001 [2:44:42<59:43,  7.03s/it]"
     ]
    },
    {
     "output_type": "stream",
     "name": "stdout",
     "text": [
      "Validation loss: 0.00041178609940742986\n"
     ]
    },
    {
     "output_type": "stream",
     "name": "stderr",
     "text": [
      " 75%|███████▍  | 1500/2001 [2:45:38<52:47,  6.32s/it]"
     ]
    },
    {
     "output_type": "stream",
     "name": "stdout",
     "text": [
      "Validation loss: 0.0004109057191838196\n"
     ]
    },
    {
     "output_type": "stream",
     "name": "stderr",
     "text": [
      " 76%|███████▌  | 1511/2001 [2:46:56<57:35,  7.05s/it]"
     ]
    },
    {
     "output_type": "stream",
     "name": "stdout",
     "text": [
      "Validation loss: 0.00041091305393549496\n"
     ]
    },
    {
     "output_type": "stream",
     "name": "stderr",
     "text": [
      " 76%|███████▌  | 1521/2001 [2:48:01<56:11,  7.02s/it]"
     ]
    },
    {
     "output_type": "stream",
     "name": "stdout",
     "text": [
      "Validation loss: 0.0004103776541756875\n"
     ]
    },
    {
     "output_type": "stream",
     "name": "stderr",
     "text": [
      " 77%|███████▋  | 1531/2001 [2:49:06<55:02,  7.03s/it]"
     ]
    },
    {
     "output_type": "stream",
     "name": "stdout",
     "text": [
      "Validation loss: 0.00040947246370723984\n"
     ]
    },
    {
     "output_type": "stream",
     "name": "stderr",
     "text": [
      " 77%|███████▋  | 1541/2001 [2:50:12<53:54,  7.03s/it]"
     ]
    },
    {
     "output_type": "stream",
     "name": "stdout",
     "text": [
      "Validation loss: 0.00041275637470349335\n"
     ]
    },
    {
     "output_type": "stream",
     "name": "stderr",
     "text": [
      " 78%|███████▊  | 1551/2001 [2:51:17<52:43,  7.03s/it]"
     ]
    },
    {
     "output_type": "stream",
     "name": "stdout",
     "text": [
      "Validation loss: 0.0004099589872986811\n"
     ]
    },
    {
     "output_type": "stream",
     "name": "stderr",
     "text": [
      " 78%|███████▊  | 1561/2001 [2:52:22<51:29,  7.02s/it]"
     ]
    },
    {
     "output_type": "stream",
     "name": "stdout",
     "text": [
      "Validation loss: 0.00040925083899026425\n"
     ]
    },
    {
     "output_type": "stream",
     "name": "stderr",
     "text": [
      " 79%|███████▊  | 1571/2001 [2:53:28<50:21,  7.03s/it]"
     ]
    },
    {
     "output_type": "stream",
     "name": "stdout",
     "text": [
      "Validation loss: 0.000411868760089803\n"
     ]
    },
    {
     "output_type": "stream",
     "name": "stderr",
     "text": [
      " 79%|███████▉  | 1581/2001 [2:54:33<49:10,  7.03s/it]"
     ]
    },
    {
     "output_type": "stream",
     "name": "stdout",
     "text": [
      "Validation loss: 0.00041012504715493963\n"
     ]
    },
    {
     "output_type": "stream",
     "name": "stderr",
     "text": [
      " 80%|███████▉  | 1591/2001 [2:55:38<48:01,  7.03s/it]"
     ]
    },
    {
     "output_type": "stream",
     "name": "stdout",
     "text": [
      "Validation loss: 0.000409742971345124\n"
     ]
    },
    {
     "output_type": "stream",
     "name": "stderr",
     "text": [
      " 80%|███████▉  | 1600/2001 [2:56:35<42:15,  6.32s/it]"
     ]
    },
    {
     "output_type": "stream",
     "name": "stdout",
     "text": [
      "Validation loss: 0.0004110733434554946\n",
      "Step [1601/2001], Loss:0.000444750841765732, Lr: 3.744147025305939e-05\n"
     ]
    },
    {
     "output_type": "stream",
     "name": "stderr",
     "text": [
      " 81%|████████  | 1611/2001 [2:57:51<45:46,  7.04s/it]"
     ]
    },
    {
     "output_type": "stream",
     "name": "stdout",
     "text": [
      "Validation loss: 0.00041032502129892157\n"
     ]
    },
    {
     "output_type": "stream",
     "name": "stderr",
     "text": [
      " 81%|████████  | 1621/2001 [2:58:56<44:28,  7.02s/it]"
     ]
    },
    {
     "output_type": "stream",
     "name": "stdout",
     "text": [
      "Validation loss: 0.00040994535157928624\n"
     ]
    },
    {
     "output_type": "stream",
     "name": "stderr",
     "text": [
      " 82%|████████▏ | 1631/2001 [3:00:01<43:18,  7.02s/it]"
     ]
    },
    {
     "output_type": "stream",
     "name": "stdout",
     "text": [
      "Validation loss: 0.000409042345345283\n"
     ]
    },
    {
     "output_type": "stream",
     "name": "stderr",
     "text": [
      " 82%|████████▏ | 1641/2001 [3:01:07<42:11,  7.03s/it]"
     ]
    },
    {
     "output_type": "stream",
     "name": "stdout",
     "text": [
      "Validation loss: 0.0004099301514389514\n"
     ]
    },
    {
     "output_type": "stream",
     "name": "stderr",
     "text": [
      " 83%|████████▎ | 1651/2001 [3:02:12<40:57,  7.02s/it]"
     ]
    },
    {
     "output_type": "stream",
     "name": "stdout",
     "text": [
      "Validation loss: 0.00040916758859012753\n"
     ]
    },
    {
     "output_type": "stream",
     "name": "stderr",
     "text": [
      " 83%|████████▎ | 1661/2001 [3:03:17<39:48,  7.02s/it]"
     ]
    },
    {
     "output_type": "stream",
     "name": "stdout",
     "text": [
      "Validation loss: 0.00041035089251551015\n"
     ]
    },
    {
     "output_type": "stream",
     "name": "stderr",
     "text": [
      " 84%|████████▎ | 1671/2001 [3:04:23<38:39,  7.03s/it]"
     ]
    },
    {
     "output_type": "stream",
     "name": "stdout",
     "text": [
      "Validation loss: 0.0004085210876631634\n"
     ]
    },
    {
     "output_type": "stream",
     "name": "stderr",
     "text": [
      " 84%|████████▍ | 1681/2001 [3:05:28<37:29,  7.03s/it]"
     ]
    },
    {
     "output_type": "stream",
     "name": "stdout",
     "text": [
      "Validation loss: 0.0004084682647828433\n"
     ]
    },
    {
     "output_type": "stream",
     "name": "stderr",
     "text": [
      " 85%|████████▍ | 1691/2001 [3:06:33<36:18,  7.03s/it]"
     ]
    },
    {
     "output_type": "stream",
     "name": "stdout",
     "text": [
      "Validation loss: 0.000408003684437805\n"
     ]
    },
    {
     "output_type": "stream",
     "name": "stderr",
     "text": [
      " 85%|████████▌ | 1701/2001 [3:07:39<35:07,  7.03s/it]"
     ]
    },
    {
     "output_type": "stream",
     "name": "stdout",
     "text": [
      "Validation loss: 0.000408400693403441\n"
     ]
    },
    {
     "output_type": "stream",
     "name": "stderr",
     "text": [
      " 86%|████████▌ | 1711/2001 [3:08:44<33:58,  7.03s/it]"
     ]
    },
    {
     "output_type": "stream",
     "name": "stdout",
     "text": [
      "Validation loss: 0.000408505215835263\n"
     ]
    },
    {
     "output_type": "stream",
     "name": "stderr",
     "text": [
      " 86%|████████▌ | 1721/2001 [3:09:49<32:49,  7.03s/it]"
     ]
    },
    {
     "output_type": "stream",
     "name": "stdout",
     "text": [
      "Validation loss: 0.00040830683957892596\n"
     ]
    },
    {
     "output_type": "stream",
     "name": "stderr",
     "text": [
      " 87%|████████▋ | 1731/2001 [3:10:55<31:37,  7.03s/it]"
     ]
    },
    {
     "output_type": "stream",
     "name": "stdout",
     "text": [
      "Validation loss: 0.00040876418451968793\n"
     ]
    },
    {
     "output_type": "stream",
     "name": "stderr",
     "text": [
      " 87%|████████▋ | 1741/2001 [3:12:00<30:27,  7.03s/it]"
     ]
    },
    {
     "output_type": "stream",
     "name": "stdout",
     "text": [
      "Validation loss: 0.00040817693682559264\n"
     ]
    },
    {
     "output_type": "stream",
     "name": "stderr",
     "text": [
      " 88%|████████▊ | 1751/2001 [3:13:05<29:17,  7.03s/it]"
     ]
    },
    {
     "output_type": "stream",
     "name": "stdout",
     "text": [
      "Validation loss: 0.00040770802703664783\n"
     ]
    },
    {
     "output_type": "stream",
     "name": "stderr",
     "text": [
      " 88%|████████▊ | 1761/2001 [3:14:10<28:05,  7.02s/it]"
     ]
    },
    {
     "output_type": "stream",
     "name": "stdout",
     "text": [
      "Validation loss: 0.00040795948661543165\n"
     ]
    },
    {
     "output_type": "stream",
     "name": "stderr",
     "text": [
      " 89%|████████▊ | 1771/2001 [3:15:16<26:56,  7.03s/it]"
     ]
    },
    {
     "output_type": "stream",
     "name": "stdout",
     "text": [
      "Validation loss: 0.0004072903746587455\n"
     ]
    },
    {
     "output_type": "stream",
     "name": "stderr",
     "text": [
      " 89%|████████▉ | 1781/2001 [3:16:21<25:45,  7.02s/it]"
     ]
    },
    {
     "output_type": "stream",
     "name": "stdout",
     "text": [
      "Validation loss: 0.0004076974234652921\n"
     ]
    },
    {
     "output_type": "stream",
     "name": "stderr",
     "text": [
      " 90%|████████▉ | 1791/2001 [3:17:26<24:35,  7.03s/it]"
     ]
    },
    {
     "output_type": "stream",
     "name": "stdout",
     "text": [
      "Validation loss: 0.000407236278639871\n"
     ]
    },
    {
     "output_type": "stream",
     "name": "stderr",
     "text": [
      " 90%|████████▉ | 1800/2001 [3:18:23<21:11,  6.33s/it]"
     ]
    },
    {
     "output_type": "stream",
     "name": "stdout",
     "text": [
      "Validation loss: 0.0004068842816810951\n",
      "Step [1801/2001], Loss:0.0003964555504065306, Lr: 9.797102248719351e-06\n"
     ]
    },
    {
     "output_type": "stream",
     "name": "stderr",
     "text": [
      " 91%|█████████ | 1811/2001 [3:19:39<22:18,  7.05s/it]"
     ]
    },
    {
     "output_type": "stream",
     "name": "stdout",
     "text": [
      "Validation loss: 0.00040722898965736353\n"
     ]
    },
    {
     "output_type": "stream",
     "name": "stderr",
     "text": [
      " 91%|█████████ | 1821/2001 [3:20:44<21:05,  7.03s/it]"
     ]
    },
    {
     "output_type": "stream",
     "name": "stdout",
     "text": [
      "Validation loss: 0.0004072778017847514\n"
     ]
    },
    {
     "output_type": "stream",
     "name": "stderr",
     "text": [
      " 92%|█████████▏| 1831/2001 [3:21:50<19:55,  7.03s/it]"
     ]
    },
    {
     "output_type": "stream",
     "name": "stdout",
     "text": [
      "Validation loss: 0.00040707752495480694\n"
     ]
    },
    {
     "output_type": "stream",
     "name": "stderr",
     "text": [
      " 92%|█████████▏| 1841/2001 [3:22:55<18:44,  7.03s/it]"
     ]
    },
    {
     "output_type": "stream",
     "name": "stdout",
     "text": [
      "Validation loss: 0.0004070523441451294\n"
     ]
    },
    {
     "output_type": "stream",
     "name": "stderr",
     "text": [
      " 93%|█████████▎| 1851/2001 [3:24:00<17:34,  7.03s/it]"
     ]
    },
    {
     "output_type": "stream",
     "name": "stdout",
     "text": [
      "Validation loss: 0.00040744802264379974\n"
     ]
    },
    {
     "output_type": "stream",
     "name": "stderr",
     "text": [
      " 93%|█████████▎| 1861/2001 [3:25:06<16:24,  7.03s/it]"
     ]
    },
    {
     "output_type": "stream",
     "name": "stdout",
     "text": [
      "Validation loss: 0.0004071534341784462\n"
     ]
    },
    {
     "output_type": "stream",
     "name": "stderr",
     "text": [
      " 94%|█████████▎| 1871/2001 [3:26:11<15:13,  7.03s/it]"
     ]
    },
    {
     "output_type": "stream",
     "name": "stdout",
     "text": [
      "Validation loss: 0.00040729788006596584\n"
     ]
    },
    {
     "output_type": "stream",
     "name": "stderr",
     "text": [
      " 94%|█████████▍| 1881/2001 [3:27:16<14:03,  7.03s/it]"
     ]
    },
    {
     "output_type": "stream",
     "name": "stdout",
     "text": [
      "Validation loss: 0.0004071981722931489\n"
     ]
    },
    {
     "output_type": "stream",
     "name": "stderr",
     "text": [
      " 95%|█████████▍| 1891/2001 [3:28:21<12:52,  7.02s/it]"
     ]
    },
    {
     "output_type": "stream",
     "name": "stdout",
     "text": [
      "Validation loss: 0.00040711026040802183\n"
     ]
    },
    {
     "output_type": "stream",
     "name": "stderr",
     "text": [
      " 95%|█████████▌| 1901/2001 [3:29:27<11:42,  7.02s/it]"
     ]
    },
    {
     "output_type": "stream",
     "name": "stdout",
     "text": [
      "Validation loss: 0.00040729401465918884\n"
     ]
    },
    {
     "output_type": "stream",
     "name": "stderr",
     "text": [
      " 96%|█████████▌| 1911/2001 [3:30:32<10:31,  7.02s/it]"
     ]
    },
    {
     "output_type": "stream",
     "name": "stdout",
     "text": [
      "Validation loss: 0.00040724765661476805\n"
     ]
    },
    {
     "output_type": "stream",
     "name": "stderr",
     "text": [
      " 96%|█████████▌| 1921/2001 [3:31:37<09:22,  7.03s/it]"
     ]
    },
    {
     "output_type": "stream",
     "name": "stdout",
     "text": [
      "Validation loss: 0.0004070679492748466\n"
     ]
    },
    {
     "output_type": "stream",
     "name": "stderr",
     "text": [
      " 97%|█████████▋| 1931/2001 [3:32:43<08:12,  7.04s/it]"
     ]
    },
    {
     "output_type": "stream",
     "name": "stdout",
     "text": [
      "Validation loss: 0.0004070251156065102\n"
     ]
    },
    {
     "output_type": "stream",
     "name": "stderr",
     "text": [
      " 97%|█████████▋| 1941/2001 [3:33:48<07:01,  7.03s/it]"
     ]
    },
    {
     "output_type": "stream",
     "name": "stdout",
     "text": [
      "Validation loss: 0.0004070873170891702\n"
     ]
    },
    {
     "output_type": "stream",
     "name": "stderr",
     "text": [
      " 98%|█████████▊| 1951/2001 [3:34:53<05:51,  7.02s/it]"
     ]
    },
    {
     "output_type": "stream",
     "name": "stdout",
     "text": [
      "Validation loss: 0.00040712990140796937\n"
     ]
    },
    {
     "output_type": "stream",
     "name": "stderr",
     "text": [
      " 98%|█████████▊| 1961/2001 [3:35:59<04:41,  7.03s/it]"
     ]
    },
    {
     "output_type": "stream",
     "name": "stdout",
     "text": [
      "Validation loss: 0.00040708805115327183\n"
     ]
    },
    {
     "output_type": "stream",
     "name": "stderr",
     "text": [
      " 99%|█████████▊| 1971/2001 [3:37:04<03:30,  7.02s/it]"
     ]
    },
    {
     "output_type": "stream",
     "name": "stdout",
     "text": [
      "Validation loss: 0.00040707232623656995\n"
     ]
    },
    {
     "output_type": "stream",
     "name": "stderr",
     "text": [
      " 99%|█████████▉| 1981/2001 [3:38:09<02:20,  7.03s/it]"
     ]
    },
    {
     "output_type": "stream",
     "name": "stdout",
     "text": [
      "Validation loss: 0.0004070723627540085\n"
     ]
    },
    {
     "output_type": "stream",
     "name": "stderr",
     "text": [
      "100%|█████████▉| 1991/2001 [3:39:15<01:10,  7.03s/it]"
     ]
    },
    {
     "output_type": "stream",
     "name": "stdout",
     "text": [
      "Validation loss: 0.0004070681964432429\n"
     ]
    },
    {
     "output_type": "stream",
     "name": "stderr",
     "text": [
      "100%|█████████▉| 2000/2001 [3:40:11<00:06,  6.32s/it]"
     ]
    },
    {
     "output_type": "stream",
     "name": "stdout",
     "text": [
      "Validation loss: 0.00040706759145995507\n",
      "Step [2001/2001], Loss:0.0003346696421933305, Lr: 1.0515229240213496e-09\n"
     ]
    },
    {
     "output_type": "stream",
     "name": "stderr",
     "text": [
      "100%|██████████| 2001/2001 [3:40:26<00:00,  6.61s/it]\n"
     ]
    }
   ]
  },
  {
   "cell_type": "markdown",
   "source": [
    "## Visualisation des pertes"
   ],
   "metadata": {
    "id": "4eGE4aQo1rQF"
   }
  },
  {
   "cell_type": "code",
   "source": [
    "iter_count_train = np.linspace(1, 2001, 2001) # training loss and lr are recorded every iteration\n",
    "iter_count_val = np.linspace(1, 2001, 201) # validation loss is recorded once per 10 iterations\n",
    "\n",
    "plt.figure()\n",
    "plt.title(\"Learning rate variation\")\n",
    "plt.plot(iter_count_train, lrs, label=\"learning rate\") # plot learning rate variation\n",
    "plt.xlabel(\"Iteraiton\")\n",
    "plt.ylabel(\"Learning rate\")\n",
    "plt.legend()\n",
    "plt.show()\n",
    "\n",
    "plt.figure()\n",
    "plt.title(\"Loss function variation\")\n",
    "plt.plot(iter_count_train, train_losses, label=\"batch training loss\") # loss of the current batch of training set\n",
    "\n",
    "plt.plot(iter_count_val, val_losses, label=\"validation loss\") # loss on validation set\n",
    "plt.legend()\n",
    "plt.xlabel(\"Iteration\")\n",
    "plt.ylabel(\"MSE Loss\")\n",
    "plt.show()\n",
    "\n",
    "plt.figure()\n",
    "plt.title(\"Loss function variation (logarithmic scale)\")\n",
    "plt.plot(iter_count_train, train_losses, label=\"batch training loss\") # loss of the current batch of training set\n",
    "plt.plot(iter_count_val, val_losses, label=\"validation loss\") # loss on validation set\n",
    "plt.legend()\n",
    "plt.yscale(\"log\")\n",
    "plt.xlabel(\"Iteration\")\n",
    "plt.ylabel(\"log10 MSE Loss\")\n",
    "plt.show()\n"
   ],
   "metadata": {
    "colab": {
     "base_uri": "https://localhost:8080/",
     "height": 851
    },
    "id": "F4-e8ZR98sYY",
    "executionInfo": {
     "status": "ok",
     "timestamp": 1650993872507,
     "user_tz": -120,
     "elapsed": 1050,
     "user": {
      "displayName": "Évi Pinglei He",
      "userId": "02882825246800120604"
     }
    },
    "outputId": "2347c105-5beb-436f-dfb4-897d12cc9572",
    "pycharm": {
     "name": "#%%\n"
    }
   },
   "execution_count": 24,
   "outputs": [
    {
     "output_type": "display_data",
     "data": {
      "text/plain": [
       "<Figure size 432x288 with 1 Axes>"
      ],
      "image/png": "[encoded data removed]"
     },
     "metadata": {
      "needs_background": "light"
     }
    },
    {
     "output_type": "display_data",
     "data": {
      "text/plain": [
       "<Figure size 432x288 with 1 Axes>"
      ],
      "image/png": "[encoded data removed]"
     },
     "metadata": {
      "needs_background": "light"
     }
    },
    {
     "output_type": "display_data",
     "data": {
      "text/plain": [
       "<Figure size 432x288 with 1 Axes>"
      ],
      "image/png": "[encoded data removed]"
     },
     "metadata": {
      "needs_background": "light"
     }
    }
   ]
  }
 ],
 "metadata": {
  "kernelspec": {
   "display_name": "Python 3",
   "language": "python",
   "name": "python3"
  },
  "language_info": {
   "codemirror_mode": {
    "name": "ipython",
    "version": 2
   },
   "file_extension": ".py",
   "mimetype": "text/x-python",
   "name": "python",
   "nbconvert_exporter": "python",
   "pygments_lexer": "ipython2",
   "version": "2.7.6"
  },
  "colab": {
   "name": "unet-training-online.ipynb",
   "provenance": [],
   "collapsed_sections": [],
   "machine_shape": "hm"
  },
  "accelerator": "GPU"
 },
 "nbformat": 4,
 "nbformat_minor": 0
}