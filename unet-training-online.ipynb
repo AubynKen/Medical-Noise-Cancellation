{
 "cells": [
  {
   "cell_type": "markdown",
   "source": [
    "# Training on online dataset"
   ],
   "metadata": {
    "collapsed": false,
    "pycharm": {
     "name": "#%% md\n"
    }
   }
  },
  {
   "cell_type": "markdown",
   "source": [
    "## Module imports"
   ],
   "metadata": {
    "collapsed": false,
    "pycharm": {
     "name": "#%% md\n"
    }
   }
  },
  {
   "cell_type": "code",
   "execution_count": 6,
   "outputs": [],
   "source": [
    "import matplotlib.pyplot as plt\n",
    "from torch.utils.data import DataLoader\n",
    "from torch.nn import MSELoss\n",
    "from tqdm import tqdm # progress bar\n",
    "from torch.optim import Adam\n",
    "import torch\n",
    "import pickle\n",
    "import numpy as np\n",
    "\n",
    "# custom modules\n",
    "from unet import (StentOnlineDataset, # custom on-the-go augmentation dataset\n",
    "                   UNet) # our PyTorch U-Net model"
   ],
   "metadata": {
    "collapsed": false,
    "pycharm": {
     "name": "#%%\n"
    }
   }
  },
  {
   "cell_type": "markdown",
   "source": [
    "## Model and cached weight imports"
   ],
   "metadata": {
    "collapsed": false,
    "pycharm": {
     "name": "#%% md\n"
    }
   }
  },
  {
   "cell_type": "code",
   "execution_count": 7,
   "outputs": [],
   "source": [
    "# parameters about cached weights\n",
    "use_cached_weights = False # use models weights that we cached at checkpoint\n",
    "path_weights = \"./weights/unet-model_7000.pkl\" # path to cached weights\n",
    "previous_iter_count = 7000 # number of iterations we trained the model for before launching this notebook\n",
    "\n",
    "model = None\n",
    "if use_cached_weights:\n",
    "    # load pretrained model with pickle\n",
    "    with open(path_weights, \"rb\") as f:\n",
    "        model = pickle.load(f)\n",
    "else:\n",
    "    # create new model\n",
    "    model = UNet(in_channels=1, out_channels=1)\n",
    "    # use double precision\n",
    "    model.double()"
   ],
   "metadata": {
    "collapsed": false,
    "pycharm": {
     "name": "#%%\n"
    }
   }
  },
  {
   "cell_type": "markdown",
   "source": [
    "## Training Parameters"
   ],
   "metadata": {
    "collapsed": false,
    "pycharm": {
     "name": "#%% md\n"
    }
   }
  },
  {
   "cell_type": "code",
   "execution_count": 8,
   "outputs": [],
   "source": [
    "# parameters used in training\n",
    "n_images = 2000 # number of images per epoch\n",
    "\n",
    "# learning rate\n",
    "lr = 0.00001 # iter 7001 to 10000, excluding base image 7, 8, 9 for better capturing low contrast stents\n",
    "# lr = 0.00005 # iter 3001 to 7000\n",
    "# lr = 0.001 # iter 501 to 3000\n",
    "# lr = 0.005 # iter 1 to 500\n",
    "\n",
    "# custom image dataset class with on-the-go augmentation\n",
    "dataset = StentOnlineDataset(n_images=n_images, base_image_path=\"data/dataset/base_png\")\n",
    "# pytorch dataset object\n",
    "data_loader = DataLoader(dataset, batch_size=1, shuffle=False)"
   ],
   "metadata": {
    "collapsed": false,
    "pycharm": {
     "name": "#%%\n"
    }
   }
  },
  {
   "cell_type": "code",
   "execution_count": 9,
   "outputs": [],
   "source": [
    "# mean square error for avoiding the model to over-whiten the output image when the stent sizes are small\n",
    "criterion = MSELoss()\n",
    "optimizer = Adam(model.parameters(), lr=lr)"
   ],
   "metadata": {
    "collapsed": false,
    "pycharm": {
     "name": "#%%\n"
    }
   }
  },
  {
   "cell_type": "markdown",
   "source": [
    "### Prediction with current weights of the model"
   ],
   "metadata": {
    "collapsed": false,
    "pycharm": {
     "name": "#%% md\n"
    }
   }
  },
  {
   "cell_type": "code",
   "execution_count": 10,
   "outputs": [],
   "source": [
    "# prediction with current weights\n",
    "# print(\"Input image:\")\n",
    "# plt.figure()\n",
    "# test_input = dataset[0][0]\n",
    "# plt.imshow(test_input[96:-96, 96:-96], cmap=\"gray\")\n",
    "# plt.show()\n",
    "#\n",
    "# print(\"Output image:\")\n",
    "# prediction = model(test_input.reshape(1, 512, 512))\n",
    "# plt.figure()\n",
    "# plt.imshow(prediction.detach().numpy()[0], cmap=\"gray\")\n",
    "# plt.show()"
   ],
   "metadata": {
    "collapsed": false,
    "pycharm": {
     "name": "#%%\n"
    }
   }
  },
  {
   "cell_type": "code",
   "execution_count": 11,
   "outputs": [],
   "source": [
    "# save the losses for analysis\n",
    "losses = []"
   ],
   "metadata": {
    "collapsed": false,
    "pycharm": {
     "name": "#%%\n"
    }
   }
  },
  {
   "cell_type": "code",
   "execution_count": null,
   "outputs": [],
   "source": [
    "# training\n",
    "for i, data in enumerate(tqdm(data_loader)):\n",
    "    # get the inputs\n",
    "    inputs, targets = data\n",
    "    # zero the parameter gradients\n",
    "    optimizer.zero_grad()\n",
    "    # forward + backward + optimize\n",
    "    outputs = model(inputs)\n",
    "    loss = criterion(outputs, targets)\n",
    "    loss.backward()\n",
    "    optimizer.step()\n",
    "    # print statistics\n",
    "    losses.append(loss.item())\n",
    "    if i % 10 == 0:\n",
    "        print('Step [{}/{}], Loss: {:.10f}'.format(i+1, len(data_loader), loss.item()))\n",
    "    if i < 200 and i % 20 == 0 or i % 10 == 0:\n",
    "        print(\"Original image:\")\n",
    "        plt.figure()\n",
    "        plt.imshow(inputs.detach().numpy()[0][94:-94, 94:-94], cmap=\"gray\")\n",
    "        plt.show()\n",
    "        print(\"Predicted image:\")\n",
    "        plt.figure()\n",
    "        plt.imshow(outputs.detach().numpy()[0], cmap=\"gray\")\n",
    "        plt.show()\n",
    "        print(\"Ground truth:\")\n",
    "        plt.figure()\n",
    "        plt.imshow(targets.detach().numpy()[0], cmap=\"gray\")\n",
    "        plt.show()"
   ],
   "metadata": {
    "collapsed": false,
    "pycharm": {
     "name": "#%%\n",
     "is_executing": true
    }
   }
  },
  {
   "cell_type": "code",
   "execution_count": null,
   "outputs": [],
   "source": [
    "# plot the log loss\n",
    "plt.plot(np.log(losses))\n",
    "plt.xlabel(\"Iteration\")\n",
    "plt.ylabel(\"Log MES Loss\")\n",
    "plt.show()\n",
    "\n",
    "# plot the loss\n",
    "plt.plot(losses)\n",
    "plt.xlabel(\"Iteration\")\n",
    "plt.ylabel(\"MES Loss\")\n",
    "plt.show()"
   ],
   "metadata": {
    "collapsed": false,
    "pycharm": {
     "name": "#%%\n"
    }
   }
  },
  {
   "cell_type": "code",
   "execution_count": null,
   "outputs": [],
   "source": [
    "# save the model\n",
    "torch.save(model.state_dict(), f\"./weights/unet-weights_{previous_iter_count + n_images}.pt\")\n",
    "\n",
    "# use pickle to save the model\n",
    "with open(f\"./weights/unet-model_{previous_iter_count + n_images}.pkl\", \"wb\") as f:\n",
    "    pickle.dump(model, f)"
   ],
   "metadata": {
    "collapsed": false,
    "pycharm": {
     "name": "#%%\n"
    }
   }
  },
  {
   "cell_type": "code",
   "execution_count": null,
   "outputs": [],
   "source": [
    "# save the losses\n",
    "with open(f\"./weights/unet-losses-{previous_iter_count + n_images}.pkl\", \"wb\") as f:\n",
    "    pickle.dump(losses, f)"
   ],
   "metadata": {
    "collapsed": false,
    "pycharm": {
     "name": "#%%\n"
    }
   }
  },
  {
   "cell_type": "code",
   "execution_count": null,
   "outputs": [],
   "source": [],
   "metadata": {
    "collapsed": false,
    "pycharm": {
     "name": "#%%\n"
    }
   }
  }
 ],
 "metadata": {
  "kernelspec": {
   "display_name": "Python 3",
   "language": "python",
   "name": "python3"
  },
  "language_info": {
   "codemirror_mode": {
    "name": "ipython",
    "version": 2
   },
   "file_extension": ".py",
   "mimetype": "text/x-python",
   "name": "python",
   "nbconvert_exporter": "python",
   "pygments_lexer": "ipython2",
   "version": "2.7.6"
  }
 },
 "nbformat": 4,
 "nbformat_minor": 0
}