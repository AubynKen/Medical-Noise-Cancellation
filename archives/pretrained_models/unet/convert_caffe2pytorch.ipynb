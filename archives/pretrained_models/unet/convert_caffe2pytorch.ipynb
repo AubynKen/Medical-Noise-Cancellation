{
 "cells": [
  {
   "cell_type": "code",
   "execution_count": 2,
   "id": "0add138d-4df9-46ec-a224-c8dd1269ec5b",
   "metadata": {},
   "outputs": [],
   "source": [
    "import caffemodel2pytorch"
   ]
  },
  {
   "cell_type": "code",
   "execution_count": 6,
   "id": "d4ccd4f0-9194-4f9c-a0e5-04237767883b",
   "metadata": {},
   "outputs": [],
   "source": [
    "!python -m caffemodel2pytorch data/u-net-release/phseg_v5.caffemodel -o data/u-net-release/phseg_v5.h5"
   ]
  }
 ],
 "metadata": {
  "kernelspec": {
   "display_name": "mnc_venv",
   "language": "python",
   "name": "mnc_venv"
  },
  "language_info": {
   "codemirror_mode": {
    "name": "ipython",
    "version": 3
   },
   "file_extension": ".py",
   "mimetype": "text/x-python",
   "name": "python",
   "nbconvert_exporter": "python",
   "pygments_lexer": "ipython3",
   "version": "3.8.10"
  }
 },
 "nbformat": 4,
 "nbformat_minor": 5
}